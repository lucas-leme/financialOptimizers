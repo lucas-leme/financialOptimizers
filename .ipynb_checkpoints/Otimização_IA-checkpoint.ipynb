{
 "cells": [
  {
   "cell_type": "code",
   "execution_count": 1,
   "metadata": {
    "colab": {
     "base_uri": "https://localhost:8080/",
     "height": 479
    },
    "colab_type": "code",
    "id": "dJbreb9SoJV9",
    "outputId": "e0f4d3d0-126f-4088-f736-e758d229c24e"
   },
   "outputs": [
    {
     "name": "stdout",
     "output_type": "stream",
     "text": [
      "Collecting package metadata (current_repodata.json): done\n",
      "Solving environment: failed with initial frozen solve. Retrying with flexible solve.\n",
      "Collecting package metadata (repodata.json): done\n",
      "Solving environment: failed with initial frozen solve. Retrying with flexible solve.\n",
      "\n",
      "PackagesNotFoundError: The following packages are not available from current channels:\n",
      "\n",
      "  - pyportfolioopt\n",
      "\n",
      "Current channels:\n",
      "\n",
      "  - https://repo.anaconda.com/pkgs/main/linux-64\n",
      "  - https://repo.anaconda.com/pkgs/main/noarch\n",
      "  - https://repo.anaconda.com/pkgs/r/linux-64\n",
      "  - https://repo.anaconda.com/pkgs/r/noarch\n",
      "\n",
      "To search for alternate channels that may provide the conda package you're\n",
      "looking for, navigate to\n",
      "\n",
      "    https://anaconda.org\n",
      "\n",
      "and use the search bar at the top of the page.\n",
      "\n",
      "\n",
      "Collecting package metadata (current_repodata.json): done\n",
      "Solving environment: failed with initial frozen solve. Retrying with flexible solve.\n",
      "Collecting package metadata (repodata.json): done\n",
      "Solving environment: failed with initial frozen solve. Retrying with flexible solve.\n",
      "\n",
      "PackagesNotFoundError: The following packages are not available from current channels:\n",
      "\n",
      "  - yfinance\n",
      "\n",
      "Current channels:\n",
      "\n",
      "  - https://repo.anaconda.com/pkgs/main/linux-64\n",
      "  - https://repo.anaconda.com/pkgs/main/noarch\n",
      "  - https://repo.anaconda.com/pkgs/r/linux-64\n",
      "  - https://repo.anaconda.com/pkgs/r/noarch\n",
      "\n",
      "To search for alternate channels that may provide the conda package you're\n",
      "looking for, navigate to\n",
      "\n",
      "    https://anaconda.org\n",
      "\n",
      "and use the search bar at the top of the page.\n",
      "\n",
      "\n"
     ]
    }
   ],
   "source": [
    "!conda install PyPortfolioOpt\n",
    "!conda install yfinance"
   ]
  },
  {
   "cell_type": "code",
   "execution_count": null,
   "metadata": {
    "colab": {},
    "colab_type": "code",
    "id": "eqgkhlnYqDpL"
   },
   "outputs": [],
   "source": [
    "import yfinance as yf\n",
    "\n",
    "import pypfopt\n",
    "from pypfopt import risk_models\n",
    "from pypfopt import plotting\n",
    "from pypfopt.efficient_frontier import EfficientFrontier\n",
    "\n",
    "from pypfopt import expected_returns"
   ]
  },
  {
   "cell_type": "code",
   "execution_count": null,
   "metadata": {
    "colab": {
     "base_uri": "https://localhost:8080/",
     "height": 34
    },
    "colab_type": "code",
    "id": "EjX7kJrTpp0e",
    "outputId": "9df497b5-ee3f-4368-d358-aae8cf9aa815"
   },
   "outputs": [
    {
     "name": "stdout",
     "output_type": "stream",
     "text": [
      "[*********************100%***********************]  7 of 7 completed\n"
     ]
    }
   ],
   "source": [
    "ativos = ['ITUB4.SA', 'BPAC3.SA', 'OIBR4.SA', 'PETR4.SA', 'BBDC4.SA', 'VIVT4.SA', 'TIMP3.SA']\n",
    "precos = yf.download(ativos)['Close']"
   ]
  },
  {
   "cell_type": "markdown",
   "metadata": {
    "colab_type": "text",
    "id": "JY-qTj47tcen"
   },
   "source": [
    "# Matriz de covariança"
   ]
  },
  {
   "cell_type": "markdown",
   "metadata": {
    "colab_type": "text",
    "id": "JYrEB2_Kr6Nu"
   },
   "source": [
    "Covariaça simples"
   ]
  },
  {
   "cell_type": "code",
   "execution_count": null,
   "metadata": {
    "colab": {
     "base_uri": "https://localhost:8080/",
     "height": 173
    },
    "colab_type": "code",
    "id": "V0vjGbJLqs5a",
    "outputId": "c0239868-43f1-442a-cd15-95afd94b5f5b"
   },
   "outputs": [
    {
     "data": {
      "text/html": [
       "<div>\n",
       "<style scoped>\n",
       "    .dataframe tbody tr th:only-of-type {\n",
       "        vertical-align: middle;\n",
       "    }\n",
       "\n",
       "    .dataframe tbody tr th {\n",
       "        vertical-align: top;\n",
       "    }\n",
       "\n",
       "    .dataframe thead th {\n",
       "        text-align: right;\n",
       "    }\n",
       "</style>\n",
       "<table border=\"1\" class=\"dataframe\">\n",
       "  <thead>\n",
       "    <tr style=\"text-align: right;\">\n",
       "      <th></th>\n",
       "      <th>BPAC3.SA</th>\n",
       "      <th>ITUB4.SA</th>\n",
       "      <th>OIBR4.SA</th>\n",
       "      <th>PETR4.SA</th>\n",
       "    </tr>\n",
       "  </thead>\n",
       "  <tbody>\n",
       "    <tr>\n",
       "      <th>BPAC3.SA</th>\n",
       "      <td>0.587015</td>\n",
       "      <td>0.012092</td>\n",
       "      <td>0.032837</td>\n",
       "      <td>0.004145</td>\n",
       "    </tr>\n",
       "    <tr>\n",
       "      <th>ITUB4.SA</th>\n",
       "      <td>0.012092</td>\n",
       "      <td>0.130966</td>\n",
       "      <td>0.063466</td>\n",
       "      <td>0.082907</td>\n",
       "    </tr>\n",
       "    <tr>\n",
       "      <th>OIBR4.SA</th>\n",
       "      <td>0.032837</td>\n",
       "      <td>0.063466</td>\n",
       "      <td>0.340318</td>\n",
       "      <td>0.066087</td>\n",
       "    </tr>\n",
       "    <tr>\n",
       "      <th>PETR4.SA</th>\n",
       "      <td>0.004145</td>\n",
       "      <td>0.082907</td>\n",
       "      <td>0.066087</td>\n",
       "      <td>0.183906</td>\n",
       "    </tr>\n",
       "  </tbody>\n",
       "</table>\n",
       "</div>"
      ],
      "text/plain": [
       "          BPAC3.SA  ITUB4.SA  OIBR4.SA  PETR4.SA\n",
       "BPAC3.SA  0.587015  0.012092  0.032837  0.004145\n",
       "ITUB4.SA  0.012092  0.130966  0.063466  0.082907\n",
       "OIBR4.SA  0.032837  0.063466  0.340318  0.066087\n",
       "PETR4.SA  0.004145  0.082907  0.066087  0.183906"
      ]
     },
     "execution_count": 16,
     "metadata": {
      "tags": []
     },
     "output_type": "execute_result"
    }
   ],
   "source": [
    "matriz_cov = risk_models.sample_cov(precos, frequency=252)\n",
    "matriz_cov"
   ]
  },
  {
   "cell_type": "code",
   "execution_count": null,
   "metadata": {
    "colab": {
     "base_uri": "https://localhost:8080/",
     "height": 314
    },
    "colab_type": "code",
    "id": "Ni26rd0WrtGl",
    "outputId": "5bed6e0c-b160-4221-d3f7-ed351c863cfb"
   },
   "outputs": [
    {
     "data": {
      "image/png": "[encoded data removed]",
      "text/plain": [
       "<Figure size 432x288 with 2 Axes>"
      ]
     },
     "metadata": {
      "needs_background": "light",
      "tags": []
     },
     "output_type": "display_data"
    },
    {
     "data": {
      "text/plain": [
       "<matplotlib.axes._subplots.AxesSubplot at 0x7f47b59350f0>"
      ]
     },
     "execution_count": 18,
     "metadata": {
      "tags": []
     },
     "output_type": "execute_result"
    }
   ],
   "source": [
    "plotting.plot_covariance(matriz_cov)"
   ]
  },
  {
   "cell_type": "markdown",
   "metadata": {
    "colab_type": "text",
    "id": "-0kmItRJr912"
   },
   "source": [
    "Covariança de Shrinkage\n"
   ]
  },
  {
   "cell_type": "code",
   "execution_count": null,
   "metadata": {
    "colab": {
     "base_uri": "https://localhost:8080/",
     "height": 297
    },
    "colab_type": "code",
    "id": "oc6RDMfWrxea",
    "outputId": "1b53d313-7292-4b1a-91b4-86a3fd975dba"
   },
   "outputs": [
    {
     "data": {
      "image/png": "[encoded data removed]",
      "text/plain": [
       "<Figure size 432x288 with 2 Axes>"
      ]
     },
     "metadata": {
      "needs_background": "light",
      "tags": []
     },
     "output_type": "display_data"
    }
   ],
   "source": [
    "S = risk_models.CovarianceShrinkage(precos).ledoit_wolf()\n",
    "plotting.plot_covariance(S);"
   ]
  },
  {
   "cell_type": "markdown",
   "metadata": {
    "colab_type": "text",
    "id": "hjvhCJNMsOA1"
   },
   "source": [
    "# Estimativa de retornos\n"
   ]
  },
  {
   "cell_type": "code",
   "execution_count": null,
   "metadata": {
    "colab": {
     "base_uri": "https://localhost:8080/",
     "height": 102
    },
    "colab_type": "code",
    "id": "ACrt20s4sf4c",
    "outputId": "77e08918-db2e-489c-c913-d04fc3bb565d"
   },
   "outputs": [
    {
     "data": {
      "text/plain": [
       "BPAC3.SA    0.809978\n",
       "ITUB4.SA    0.174200\n",
       "OIBR4.SA   -0.047149\n",
       "PETR4.SA    0.158563\n",
       "dtype: float64"
      ]
     },
     "execution_count": 26,
     "metadata": {
      "tags": []
     },
     "output_type": "execute_result"
    }
   ],
   "source": [
    "media_simples = expected_returns.mean_historical_return(precos)\n",
    "media_simples"
   ]
  },
  {
   "cell_type": "code",
   "execution_count": null,
   "metadata": {
    "colab": {
     "base_uri": "https://localhost:8080/",
     "height": 391
    },
    "colab_type": "code",
    "id": "PMnxEBnxs9D5",
    "outputId": "2c84f7cd-8a69-4f44-a46e-122187683e74"
   },
   "outputs": [
    {
     "data": {
      "text/plain": [
       "<matplotlib.axes._subplots.AxesSubplot at 0x7f47aa0308d0>"
      ]
     },
     "execution_count": 28,
     "metadata": {
      "tags": []
     },
     "output_type": "execute_result"
    },
    {
     "data": {
      "image/png": "[encoded data removed]",
      "text/plain": [
       "<Figure size 720x432 with 1 Axes>"
      ]
     },
     "metadata": {
      "needs_background": "light",
      "tags": []
     },
     "output_type": "display_data"
    }
   ],
   "source": [
    "media_simples.plot.barh(figsize=(10,6))"
   ]
  },
  {
   "cell_type": "markdown",
   "metadata": {
    "colab_type": "text",
    "id": "mi2v-jLCs_iu"
   },
   "source": [
    "Modelo de precificação CAPM"
   ]
  },
  {
   "cell_type": "code",
   "execution_count": null,
   "metadata": {
    "colab": {
     "base_uri": "https://localhost:8080/",
     "height": 102
    },
    "colab_type": "code",
    "id": "XQtfr7JXsDtj",
    "outputId": "b8bb2421-96e5-4ab1-9e29-70943f486858"
   },
   "outputs": [
    {
     "data": {
      "text/plain": [
       "BPAC3.SA    0.162012\n",
       "ITUB4.SA    0.099966\n",
       "OIBR4.SA    0.151495\n",
       "PETR4.SA    0.116047\n",
       "Name: mkt, dtype: float64"
      ]
     },
     "execution_count": 24,
     "metadata": {
      "tags": []
     },
     "output_type": "execute_result"
    }
   ],
   "source": [
    "media_capm = expected_returns.capm_return(precos)\n",
    "media_capm"
   ]
  },
  {
   "cell_type": "code",
   "execution_count": null,
   "metadata": {
    "colab": {
     "base_uri": "https://localhost:8080/",
     "height": 391
    },
    "colab_type": "code",
    "id": "gDtWe7aRs4yB",
    "outputId": "a105565a-976d-4575-9647-6c32e7eaaa06"
   },
   "outputs": [
    {
     "data": {
      "text/plain": [
       "<matplotlib.axes._subplots.AxesSubplot at 0x7f47aa0acbe0>"
      ]
     },
     "execution_count": 27,
     "metadata": {
      "tags": []
     },
     "output_type": "execute_result"
    },
    {
     "data": {
      "image/png": "[encoded data removed]",
      "text/plain": [
       "<Figure size 720x432 with 1 Axes>"
      ]
     },
     "metadata": {
      "needs_background": "light",
      "tags": []
     },
     "output_type": "display_data"
    }
   ],
   "source": [
    "media_capm.plot.barh(figsize=(10,6))"
   ]
  },
  {
   "cell_type": "code",
   "execution_count": null,
   "metadata": {
    "colab": {},
    "colab_type": "code",
    "id": "AlzFl9BYsc8S"
   },
   "outputs": [],
   "source": []
  },
  {
   "cell_type": "code",
   "execution_count": null,
   "metadata": {
    "colab": {},
    "colab_type": "code",
    "id": "LkrBydKGzo1Y"
   },
   "outputs": [],
   "source": []
  },
  {
   "cell_type": "markdown",
   "metadata": {
    "colab_type": "text",
    "id": "XBzpv0JnzsoT"
   },
   "source": [
    "# Otimizadores"
   ]
  },
  {
   "cell_type": "markdown",
   "metadata": {
    "colab_type": "text",
    "id": "G22vdptwzpW-"
   },
   "source": [
    "Markowitz"
   ]
  },
  {
   "cell_type": "code",
   "execution_count": null,
   "metadata": {
    "colab": {
     "base_uri": "https://localhost:8080/",
     "height": 85
    },
    "colab_type": "code",
    "id": "sR7Va8EVzwjs",
    "outputId": "8dbe8ef0-2036-4251-ee4f-80cf58449180"
   },
   "outputs": [
    {
     "data": {
      "text/plain": [
       "OrderedDict([('BPAC3.SA', 0.2089294841913147),\n",
       "             ('ITUB4.SA', 0.262244777323128),\n",
       "             ('OIBR4.SA', 0.2425688948640312),\n",
       "             ('PETR4.SA', 0.2862568436215259)])"
      ]
     },
     "execution_count": 44,
     "metadata": {
      "tags": []
     },
     "output_type": "execute_result"
    }
   ],
   "source": [
    "ef = EfficientFrontier(media_capm, matriz_cov)\n",
    "ef.max_sharpe()"
   ]
  },
  {
   "cell_type": "markdown",
   "metadata": {
    "colab_type": "text",
    "id": "4xnOBUm6yr25"
   },
   "source": [
    "HRP\n"
   ]
  },
  {
   "cell_type": "code",
   "execution_count": null,
   "metadata": {
    "colab": {},
    "colab_type": "code",
    "id": "NhJXgdntytGx"
   },
   "outputs": [],
   "source": [
    "from pypfopt.hierarchical_portfolio import HRPOpt\n",
    "import numpy as np\n",
    "import matplotlib.pyplot as plt\n",
    "from scipy.cluster.hierarchy import dendrogram, linkage\n",
    "from pypfopt.plotting import plot_dendrogram"
   ]
  },
  {
   "cell_type": "code",
   "execution_count": null,
   "metadata": {
    "colab": {
     "base_uri": "https://localhost:8080/",
     "height": 136
    },
    "colab_type": "code",
    "id": "cE5dm5aEyxIc",
    "outputId": "a503f4ee-cdd4-4d5e-c912-5e4132ecdc6c"
   },
   "outputs": [
    {
     "data": {
      "text/plain": [
       "OrderedDict([('BBDC4.SA', 0.0925205635330026),\n",
       "             ('BPAC3.SA', 0.06657015407369488),\n",
       "             ('ITUB4.SA', 0.12220776346441516),\n",
       "             ('OIBR4.SA', 0.06996343490620796),\n",
       "             ('PETR4.SA', 0.07415160899390627),\n",
       "             ('TIMP3.SA', 0.30876508417671),\n",
       "             ('VIVT4.SA', 0.26582139085206313)])"
      ]
     },
     "execution_count": 66,
     "metadata": {
      "tags": []
     },
     "output_type": "execute_result"
    }
   ],
   "source": [
    "model = HRPOpt(precos.pct_change().dropna(), np.cov(precos))\n",
    "model.optimize()"
   ]
  },
  {
   "cell_type": "code",
   "execution_count": null,
   "metadata": {
    "colab": {
     "base_uri": "https://localhost:8080/",
     "height": 34
    },
    "colab_type": "code",
    "id": "BL_lh3HrzFux",
    "outputId": "dd2c5afb-aa8b-4b1b-ee49-45939ce2416c"
   },
   "outputs": [
    {
     "data": {
      "text/plain": [
       "(0.2124653884501092, 0.2523422881740009, 0.7627155552992213)"
      ]
     },
     "execution_count": 67,
     "metadata": {
      "tags": []
     },
     "output_type": "execute_result"
    }
   ],
   "source": [
    "model.portfolio_performance()"
   ]
  },
  {
   "cell_type": "code",
   "execution_count": null,
   "metadata": {
    "colab": {
     "base_uri": "https://localhost:8080/",
     "height": 314
    },
    "colab_type": "code",
    "id": "3XzMoh5uzWTK",
    "outputId": "389ce9cb-4f07-46eb-8dc4-29c080926743"
   },
   "outputs": [
    {
     "data": {
      "image/png": "[encoded data removed]",
      "text/plain": [
       "<Figure size 432x288 with 1 Axes>"
      ]
     },
     "metadata": {
      "needs_background": "light",
      "tags": []
     },
     "output_type": "display_data"
    },
    {
     "data": {
      "text/plain": [
       "<matplotlib.axes._subplots.AxesSubplot at 0x7f47b5818ac8>"
      ]
     },
     "execution_count": 69,
     "metadata": {
      "tags": []
     },
     "output_type": "execute_result"
    }
   ],
   "source": [
    "plot_dendrogram(model)"
   ]
  },
  {
   "cell_type": "code",
   "execution_count": null,
   "metadata": {
    "colab": {},
    "colab_type": "code",
    "id": "jBAj4m8xzYvx"
   },
   "outputs": [],
   "source": []
  }
 ],
 "metadata": {
  "colab": {
   "name": "Otimização_IA.ipynb",
   "provenance": []
  },
  "kernelspec": {
   "display_name": "Python 3",
   "language": "python",
   "name": "python3"
  },
  "language_info": {
   "codemirror_mode": {
    "name": "ipython",
    "version": 3
   },
   "file_extension": ".py",
   "mimetype": "text/x-python",
   "name": "python",
   "nbconvert_exporter": "python",
   "pygments_lexer": "ipython3",
   "version": "3.7.7"
  }
 },
 "nbformat": 4,
 "nbformat_minor": 1
}

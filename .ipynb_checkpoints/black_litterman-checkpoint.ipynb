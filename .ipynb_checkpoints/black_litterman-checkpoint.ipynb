{
 "cells": [
  {
   "cell_type": "code",
   "execution_count": 1,
   "metadata": {},
   "outputs": [],
   "source": [
    "import numpy as np\n",
    "import pandas as pd"
   ]
  },
  {
   "cell_type": "markdown",
   "metadata": {},
   "source": [
    "## Otimizacao Reversa"
   ]
  },
  {
   "cell_type": "code",
   "execution_count": 2,
   "metadata": {},
   "outputs": [],
   "source": [
    "def reverse_optimization(delta, cov_matrix, market_weigths):\n",
    "    \n",
    "    excess_returns = delta * np.dot(cov_matrix, market_weigths)\n",
    "    \n",
    "    return excess_returns"
   ]
  },
  {
   "cell_type": "code",
   "execution_count": null,
   "metadata": {},
   "outputs": [],
   "source": []
  },
  {
   "cell_type": "code",
   "execution_count": 3,
   "metadata": {},
   "outputs": [],
   "source": [
    "def diag(A, B):\n",
    "    B_inverse = np.linalg.inv(B)\n",
    "    \n",
    "    return np.dot(P.T, np.dot(B_inverse, P))"
   ]
  },
  {
   "cell_type": "code",
   "execution_count": 5,
   "metadata": {},
   "outputs": [],
   "source": [
    "def black_litterman(tau, cov_matrix, P, error_diagonal, excess_returns, view):\n",
    "    \n",
    "    scalled_cov_matrix = np.linalg.inv(tau * cov_matrix)\n",
    "    \n",
    "    P_omega = diag(P, error_diagonal)\n",
    "    \n",
    "    Factor1 = np.linalg.inv(scalled_cov_matrix + P_omega)\n",
    "    Factor2 = np.linalg.inv(np.dot(scalled_cov_matrix, excess_return)  + P_omega)\n",
    "    \n",
    "    return np.dot(Factor1, Factor2)"
   ]
  },
  {
   "cell_type": "code",
   "execution_count": null,
   "metadata": {},
   "outputs": [],
   "source": []
  }
 ],
 "metadata": {
  "kernelspec": {
   "display_name": "Python 3.7.4 64-bit ('base': conda)",
   "language": "python",
   "name": "python37464bitbaseconda198a7cb91eba4781b81fadbd29ad03d9"
  },
  "language_info": {
   "codemirror_mode": {
    "name": "ipython",
    "version": 3
   },
   "file_extension": ".py",
   "mimetype": "text/x-python",
   "name": "python",
   "nbconvert_exporter": "python",
   "pygments_lexer": "ipython3",
   "version": "3.7.4"
  }
 },
 "nbformat": 4,
 "nbformat_minor": 4
}

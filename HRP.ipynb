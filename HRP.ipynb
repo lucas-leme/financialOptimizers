{
 "cells": [
  {
   "cell_type": "code",
   "execution_count": 1,
   "metadata": {},
   "outputs": [],
   "source": [
    "import pandas as pd\n",
    "import numpy as np\n",
    "import yfinance as yf\n",
    "import scipy\n",
    "import sklearn\n",
    "import matplotlib.pyplot as plt\n",
    "import seaborn as sns"
   ]
  },
  {
   "cell_type": "markdown",
   "metadata": {},
   "source": [
    "## Aquisição de Dados"
   ]
  },
  {
   "cell_type": "code",
   "execution_count": 2,
   "metadata": {},
   "outputs": [
    {
     "name": "stdout",
     "output_type": "stream",
     "text": [
      "[*********************100%***********************]  5 of 5 completed\n"
     ]
    }
   ],
   "source": [
    "df = yf.download(['BPAC3.SA', 'PETR4.SA', 'OIBR3.SA', 'ITUB4.SA', 'BBDC4.SA'])['Close']"
   ]
  },
  {
   "cell_type": "code",
   "execution_count": 3,
   "metadata": {},
   "outputs": [
    {
     "data": {
      "text/html": [
       "<div>\n",
       "<style scoped>\n",
       "    .dataframe tbody tr th:only-of-type {\n",
       "        vertical-align: middle;\n",
       "    }\n",
       "\n",
       "    .dataframe tbody tr th {\n",
       "        vertical-align: top;\n",
       "    }\n",
       "\n",
       "    .dataframe thead th {\n",
       "        text-align: right;\n",
       "    }\n",
       "</style>\n",
       "<table border=\"1\" class=\"dataframe\">\n",
       "  <thead>\n",
       "    <tr style=\"text-align: right;\">\n",
       "      <th></th>\n",
       "      <th>BBDC4.SA</th>\n",
       "      <th>BPAC3.SA</th>\n",
       "      <th>ITUB4.SA</th>\n",
       "      <th>OIBR3.SA</th>\n",
       "      <th>PETR4.SA</th>\n",
       "    </tr>\n",
       "    <tr>\n",
       "      <th>Date</th>\n",
       "      <th></th>\n",
       "      <th></th>\n",
       "      <th></th>\n",
       "      <th></th>\n",
       "      <th></th>\n",
       "    </tr>\n",
       "  </thead>\n",
       "  <tbody>\n",
       "    <tr>\n",
       "      <th>2000-01-03</th>\n",
       "      <td>NaN</td>\n",
       "      <td>NaN</td>\n",
       "      <td>NaN</td>\n",
       "      <td>NaN</td>\n",
       "      <td>5.875</td>\n",
       "    </tr>\n",
       "    <tr>\n",
       "      <th>2000-01-04</th>\n",
       "      <td>NaN</td>\n",
       "      <td>NaN</td>\n",
       "      <td>NaN</td>\n",
       "      <td>NaN</td>\n",
       "      <td>5.550</td>\n",
       "    </tr>\n",
       "    <tr>\n",
       "      <th>2000-01-05</th>\n",
       "      <td>NaN</td>\n",
       "      <td>NaN</td>\n",
       "      <td>NaN</td>\n",
       "      <td>NaN</td>\n",
       "      <td>5.494</td>\n",
       "    </tr>\n",
       "    <tr>\n",
       "      <th>2000-01-06</th>\n",
       "      <td>NaN</td>\n",
       "      <td>NaN</td>\n",
       "      <td>NaN</td>\n",
       "      <td>NaN</td>\n",
       "      <td>5.475</td>\n",
       "    </tr>\n",
       "    <tr>\n",
       "      <th>2000-01-07</th>\n",
       "      <td>NaN</td>\n",
       "      <td>NaN</td>\n",
       "      <td>NaN</td>\n",
       "      <td>NaN</td>\n",
       "      <td>5.500</td>\n",
       "    </tr>\n",
       "  </tbody>\n",
       "</table>\n",
       "</div>"
      ],
      "text/plain": [
       "            BBDC4.SA  BPAC3.SA  ITUB4.SA  OIBR3.SA  PETR4.SA\n",
       "Date                                                        \n",
       "2000-01-03       NaN       NaN       NaN       NaN     5.875\n",
       "2000-01-04       NaN       NaN       NaN       NaN     5.550\n",
       "2000-01-05       NaN       NaN       NaN       NaN     5.494\n",
       "2000-01-06       NaN       NaN       NaN       NaN     5.475\n",
       "2000-01-07       NaN       NaN       NaN       NaN     5.500"
      ]
     },
     "execution_count": 3,
     "metadata": {},
     "output_type": "execute_result"
    }
   ],
   "source": [
    "df.head()"
   ]
  },
  {
   "cell_type": "code",
   "execution_count": 4,
   "metadata": {},
   "outputs": [],
   "source": [
    "retornos = df.pct_change().loc['2018-01-01':]"
   ]
  },
  {
   "cell_type": "code",
   "execution_count": 5,
   "metadata": {},
   "outputs": [
    {
     "data": {
      "text/html": [
       "<div>\n",
       "<style scoped>\n",
       "    .dataframe tbody tr th:only-of-type {\n",
       "        vertical-align: middle;\n",
       "    }\n",
       "\n",
       "    .dataframe tbody tr th {\n",
       "        vertical-align: top;\n",
       "    }\n",
       "\n",
       "    .dataframe thead th {\n",
       "        text-align: right;\n",
       "    }\n",
       "</style>\n",
       "<table border=\"1\" class=\"dataframe\">\n",
       "  <thead>\n",
       "    <tr style=\"text-align: right;\">\n",
       "      <th></th>\n",
       "      <th>BBDC4.SA</th>\n",
       "      <th>BPAC3.SA</th>\n",
       "      <th>ITUB4.SA</th>\n",
       "      <th>OIBR3.SA</th>\n",
       "      <th>PETR4.SA</th>\n",
       "    </tr>\n",
       "    <tr>\n",
       "      <th>Date</th>\n",
       "      <th></th>\n",
       "      <th></th>\n",
       "      <th></th>\n",
       "      <th></th>\n",
       "      <th></th>\n",
       "    </tr>\n",
       "  </thead>\n",
       "  <tbody>\n",
       "    <tr>\n",
       "      <th>2018-01-02</th>\n",
       "      <td>0.022157</td>\n",
       "      <td>0.091245</td>\n",
       "      <td>0.030528</td>\n",
       "      <td>-0.008265</td>\n",
       "      <td>0.027950</td>\n",
       "    </tr>\n",
       "    <tr>\n",
       "      <th>2018-01-03</th>\n",
       "      <td>0.004048</td>\n",
       "      <td>0.000000</td>\n",
       "      <td>0.006837</td>\n",
       "      <td>-0.027778</td>\n",
       "      <td>0.009064</td>\n",
       "    </tr>\n",
       "    <tr>\n",
       "      <th>2018-01-04</th>\n",
       "      <td>0.016407</td>\n",
       "      <td>0.000000</td>\n",
       "      <td>0.020826</td>\n",
       "      <td>-0.005712</td>\n",
       "      <td>0.001796</td>\n",
       "    </tr>\n",
       "    <tr>\n",
       "      <th>2018-01-05</th>\n",
       "      <td>0.005664</td>\n",
       "      <td>-0.028249</td>\n",
       "      <td>0.002880</td>\n",
       "      <td>0.005745</td>\n",
       "      <td>0.005977</td>\n",
       "    </tr>\n",
       "    <tr>\n",
       "      <th>2018-01-08</th>\n",
       "      <td>-0.000283</td>\n",
       "      <td>0.000000</td>\n",
       "      <td>-0.003316</td>\n",
       "      <td>-0.011428</td>\n",
       "      <td>0.011884</td>\n",
       "    </tr>\n",
       "  </tbody>\n",
       "</table>\n",
       "</div>"
      ],
      "text/plain": [
       "            BBDC4.SA  BPAC3.SA  ITUB4.SA  OIBR3.SA  PETR4.SA\n",
       "Date                                                        \n",
       "2018-01-02  0.022157  0.091245  0.030528 -0.008265  0.027950\n",
       "2018-01-03  0.004048  0.000000  0.006837 -0.027778  0.009064\n",
       "2018-01-04  0.016407  0.000000  0.020826 -0.005712  0.001796\n",
       "2018-01-05  0.005664 -0.028249  0.002880  0.005745  0.005977\n",
       "2018-01-08 -0.000283  0.000000 -0.003316 -0.011428  0.011884"
      ]
     },
     "execution_count": 5,
     "metadata": {},
     "output_type": "execute_result"
    }
   ],
   "source": [
    "retornos.head()"
   ]
  },
  {
   "cell_type": "markdown",
   "metadata": {},
   "source": [
    "## Clusterização"
   ]
  },
  {
   "cell_type": "markdown",
   "metadata": {},
   "source": [
    "### Normalização dos dados"
   ]
  },
  {
   "cell_type": "code",
   "execution_count": 6,
   "metadata": {},
   "outputs": [
    {
     "data": {
      "text/html": [
       "<div>\n",
       "<style scoped>\n",
       "    .dataframe tbody tr th:only-of-type {\n",
       "        vertical-align: middle;\n",
       "    }\n",
       "\n",
       "    .dataframe tbody tr th {\n",
       "        vertical-align: top;\n",
       "    }\n",
       "\n",
       "    .dataframe thead th {\n",
       "        text-align: right;\n",
       "    }\n",
       "</style>\n",
       "<table border=\"1\" class=\"dataframe\">\n",
       "  <thead>\n",
       "    <tr style=\"text-align: right;\">\n",
       "      <th></th>\n",
       "      <th>BBDC4.SA</th>\n",
       "      <th>BPAC3.SA</th>\n",
       "      <th>ITUB4.SA</th>\n",
       "      <th>OIBR3.SA</th>\n",
       "      <th>PETR4.SA</th>\n",
       "    </tr>\n",
       "  </thead>\n",
       "  <tbody>\n",
       "    <tr>\n",
       "      <th>0</th>\n",
       "      <td>0.215229</td>\n",
       "      <td>0.886330</td>\n",
       "      <td>0.296543</td>\n",
       "      <td>-0.080282</td>\n",
       "      <td>0.271500</td>\n",
       "    </tr>\n",
       "    <tr>\n",
       "      <th>1</th>\n",
       "      <td>0.133676</td>\n",
       "      <td>0.000000</td>\n",
       "      <td>0.225786</td>\n",
       "      <td>-0.917365</td>\n",
       "      <td>0.299321</td>\n",
       "    </tr>\n",
       "    <tr>\n",
       "      <th>2</th>\n",
       "      <td>0.603632</td>\n",
       "      <td>0.000000</td>\n",
       "      <td>0.766222</td>\n",
       "      <td>-0.210154</td>\n",
       "      <td>0.066089</td>\n",
       "    </tr>\n",
       "    <tr>\n",
       "      <th>3</th>\n",
       "      <td>0.188047</td>\n",
       "      <td>-0.937934</td>\n",
       "      <td>0.095632</td>\n",
       "      <td>0.190746</td>\n",
       "      <td>0.198464</td>\n",
       "    </tr>\n",
       "    <tr>\n",
       "      <th>4</th>\n",
       "      <td>-0.016798</td>\n",
       "      <td>0.000000</td>\n",
       "      <td>-0.197172</td>\n",
       "      <td>-0.679446</td>\n",
       "      <td>0.706537</td>\n",
       "    </tr>\n",
       "  </tbody>\n",
       "</table>\n",
       "</div>"
      ],
      "text/plain": [
       "   BBDC4.SA  BPAC3.SA  ITUB4.SA  OIBR3.SA  PETR4.SA\n",
       "0  0.215229  0.886330  0.296543 -0.080282  0.271500\n",
       "1  0.133676  0.000000  0.225786 -0.917365  0.299321\n",
       "2  0.603632  0.000000  0.766222 -0.210154  0.066089\n",
       "3  0.188047 -0.937934  0.095632  0.190746  0.198464\n",
       "4 -0.016798  0.000000 -0.197172 -0.679446  0.706537"
      ]
     },
     "execution_count": 6,
     "metadata": {},
     "output_type": "execute_result"
    }
   ],
   "source": [
    "from sklearn.preprocessing import normalize\n",
    "\n",
    "retornos_normalizados = normalize(retornos)\n",
    "retornos_normalizados = pd.DataFrame(retornos_normalizados, columns=retornos.columns)\n",
    "\n",
    "retornos_normalizados.head()"
   ]
  },
  {
   "cell_type": "code",
   "execution_count": 19,
   "metadata": {},
   "outputs": [
    {
     "data": {
      "image/png": "[encoded data removed]",
      "text/plain": [
       "<Figure size 720x504 with 1 Axes>"
      ]
     },
     "metadata": {
      "needs_background": "light"
     },
     "output_type": "display_data"
    }
   ],
   "source": [
    "import scipy.cluster.hierarchy as shc\n",
    "\n",
    "plt.figure(figsize=(10, 7))  \n",
    "plt.title(\"Dendrograma\")\n",
    "\n",
    "clusters = shc.linkage(retornos.T, method='ward', metric='euclidean')\n",
    "\n",
    "dend = shc.dendrogram(clusters, labels=retornos.columns)"
   ]
  },
  {
   "cell_type": "markdown",
   "metadata": {},
   "source": [
    "### Reodernando dataframe de retornos"
   ]
  },
  {
   "cell_type": "code",
   "execution_count": 8,
   "metadata": {},
   "outputs": [
    {
     "data": {
      "text/html": [
       "<div>\n",
       "<style scoped>\n",
       "    .dataframe tbody tr th:only-of-type {\n",
       "        vertical-align: middle;\n",
       "    }\n",
       "\n",
       "    .dataframe tbody tr th {\n",
       "        vertical-align: top;\n",
       "    }\n",
       "\n",
       "    .dataframe thead th {\n",
       "        text-align: right;\n",
       "    }\n",
       "</style>\n",
       "<table border=\"1\" class=\"dataframe\">\n",
       "  <thead>\n",
       "    <tr style=\"text-align: right;\">\n",
       "      <th></th>\n",
       "      <th>OIBR3.SA</th>\n",
       "      <th>BPAC3.SA</th>\n",
       "      <th>PETR4.SA</th>\n",
       "      <th>BBDC4.SA</th>\n",
       "      <th>ITUB4.SA</th>\n",
       "    </tr>\n",
       "    <tr>\n",
       "      <th>Date</th>\n",
       "      <th></th>\n",
       "      <th></th>\n",
       "      <th></th>\n",
       "      <th></th>\n",
       "      <th></th>\n",
       "    </tr>\n",
       "  </thead>\n",
       "  <tbody>\n",
       "    <tr>\n",
       "      <th>2018-01-02</th>\n",
       "      <td>-0.008265</td>\n",
       "      <td>0.091245</td>\n",
       "      <td>0.027950</td>\n",
       "      <td>0.022157</td>\n",
       "      <td>0.030528</td>\n",
       "    </tr>\n",
       "    <tr>\n",
       "      <th>2018-01-03</th>\n",
       "      <td>-0.027778</td>\n",
       "      <td>0.000000</td>\n",
       "      <td>0.009064</td>\n",
       "      <td>0.004048</td>\n",
       "      <td>0.006837</td>\n",
       "    </tr>\n",
       "    <tr>\n",
       "      <th>2018-01-04</th>\n",
       "      <td>-0.005712</td>\n",
       "      <td>0.000000</td>\n",
       "      <td>0.001796</td>\n",
       "      <td>0.016407</td>\n",
       "      <td>0.020826</td>\n",
       "    </tr>\n",
       "    <tr>\n",
       "      <th>2018-01-05</th>\n",
       "      <td>0.005745</td>\n",
       "      <td>-0.028249</td>\n",
       "      <td>0.005977</td>\n",
       "      <td>0.005664</td>\n",
       "      <td>0.002880</td>\n",
       "    </tr>\n",
       "    <tr>\n",
       "      <th>2018-01-08</th>\n",
       "      <td>-0.011428</td>\n",
       "      <td>0.000000</td>\n",
       "      <td>0.011884</td>\n",
       "      <td>-0.000283</td>\n",
       "      <td>-0.003316</td>\n",
       "    </tr>\n",
       "    <tr>\n",
       "      <th>...</th>\n",
       "      <td>...</td>\n",
       "      <td>...</td>\n",
       "      <td>...</td>\n",
       "      <td>...</td>\n",
       "      <td>...</td>\n",
       "    </tr>\n",
       "    <tr>\n",
       "      <th>2020-10-05</th>\n",
       "      <td>0.017964</td>\n",
       "      <td>0.028803</td>\n",
       "      <td>0.053102</td>\n",
       "      <td>0.014257</td>\n",
       "      <td>0.010624</td>\n",
       "    </tr>\n",
       "    <tr>\n",
       "      <th>2020-10-06</th>\n",
       "      <td>0.000000</td>\n",
       "      <td>0.000254</td>\n",
       "      <td>-0.004993</td>\n",
       "      <td>-0.003514</td>\n",
       "      <td>0.001752</td>\n",
       "    </tr>\n",
       "    <tr>\n",
       "      <th>2020-10-07</th>\n",
       "      <td>-0.005882</td>\n",
       "      <td>-0.015013</td>\n",
       "      <td>-0.007025</td>\n",
       "      <td>-0.010579</td>\n",
       "      <td>-0.007433</td>\n",
       "    </tr>\n",
       "    <tr>\n",
       "      <th>2020-10-08</th>\n",
       "      <td>0.000000</td>\n",
       "      <td>0.046241</td>\n",
       "      <td>0.032845</td>\n",
       "      <td>0.051426</td>\n",
       "      <td>0.060352</td>\n",
       "    </tr>\n",
       "    <tr>\n",
       "      <th>2020-10-09</th>\n",
       "      <td>-0.005917</td>\n",
       "      <td>-0.009630</td>\n",
       "      <td>-0.024951</td>\n",
       "      <td>0.008232</td>\n",
       "      <td>-0.002908</td>\n",
       "    </tr>\n",
       "  </tbody>\n",
       "</table>\n",
       "<p>687 rows × 5 columns</p>\n",
       "</div>"
      ],
      "text/plain": [
       "            OIBR3.SA  BPAC3.SA  PETR4.SA  BBDC4.SA  ITUB4.SA\n",
       "Date                                                        \n",
       "2018-01-02 -0.008265  0.091245  0.027950  0.022157  0.030528\n",
       "2018-01-03 -0.027778  0.000000  0.009064  0.004048  0.006837\n",
       "2018-01-04 -0.005712  0.000000  0.001796  0.016407  0.020826\n",
       "2018-01-05  0.005745 -0.028249  0.005977  0.005664  0.002880\n",
       "2018-01-08 -0.011428  0.000000  0.011884 -0.000283 -0.003316\n",
       "...              ...       ...       ...       ...       ...\n",
       "2020-10-05  0.017964  0.028803  0.053102  0.014257  0.010624\n",
       "2020-10-06  0.000000  0.000254 -0.004993 -0.003514  0.001752\n",
       "2020-10-07 -0.005882 -0.015013 -0.007025 -0.010579 -0.007433\n",
       "2020-10-08  0.000000  0.046241  0.032845  0.051426  0.060352\n",
       "2020-10-09 -0.005917 -0.009630 -0.024951  0.008232 -0.002908\n",
       "\n",
       "[687 rows x 5 columns]"
      ]
     },
     "execution_count": 8,
     "metadata": {},
     "output_type": "execute_result"
    }
   ],
   "source": [
    "retornos.iloc[:,dend['leaves']]"
   ]
  },
  {
   "cell_type": "markdown",
   "metadata": {},
   "source": [
    "## Matrix Seriation"
   ]
  },
  {
   "cell_type": "code",
   "execution_count": 9,
   "metadata": {},
   "outputs": [
    {
     "data": {
      "text/plain": [
       "<AxesSubplot:>"
      ]
     },
     "execution_count": 9,
     "metadata": {},
     "output_type": "execute_result"
    },
    {
     "data": {
      "image/png": "[encoded data removed]",
      "text/plain": [
       "<Figure size 432x288 with 2 Axes>"
      ]
     },
     "metadata": {
      "needs_background": "light"
     },
     "output_type": "display_data"
    }
   ],
   "source": [
    "sns.heatmap(np.cov(retornos.T))"
   ]
  },
  {
   "cell_type": "code",
   "execution_count": 10,
   "metadata": {},
   "outputs": [
    {
     "data": {
      "text/plain": [
       "<AxesSubplot:>"
      ]
     },
     "execution_count": 10,
     "metadata": {},
     "output_type": "execute_result"
    },
    {
     "data": {
      "image/png": "[encoded data removed]",
      "text/plain": [
       "<Figure size 432x288 with 2 Axes>"
      ]
     },
     "metadata": {
      "needs_background": "light"
     },
     "output_type": "display_data"
    }
   ],
   "source": [
    "sns.heatmap(np.cov(retornos.iloc[:,dend['leaves']].T))"
   ]
  },
  {
   "cell_type": "code",
   "execution_count": null,
   "metadata": {},
   "outputs": [],
   "source": []
  },
  {
   "cell_type": "code",
   "execution_count": 17,
   "metadata": {},
   "outputs": [],
   "source": [
    "def compute_HRP_weights(covariances, res_order):\n",
    "    # Inicialização de pesos\n",
    "    pesos = pd.Series(1, index=res_order)\n",
    "    clustered_alphas = [res_order]\n",
    "\n",
    "    while len(clustered_alphas) > 0:\n",
    "        # Instanciação de clusters do laço\n",
    "        clustered_alphas = [cluster[start:end] for cluster in clustered_alphas\n",
    "                            for start, end in ((0, len(cluster) // 2),\n",
    "                                               (len(cluster) // 2, len(cluster)))\n",
    "                            if len(cluster) > 1]\n",
    "\n",
    "        # Iteração entre pares semelhantes\n",
    "        for subcluster in range(0, len(clustered_alphas), 2):\n",
    "            \n",
    "            cluster_esquerdo = clustered_alphas[subcluster]\n",
    "            cluster_direito = clustered_alphas[subcluster + 1]\n",
    "            \n",
    "            matriz_cov_esquerda = covariances[cluster_esquerdo].loc[cluster_esquerdo]\n",
    "            inversa_diagonal = 1 / np.diag(matriz_cov_esquerda.values)\n",
    "            pesos_cluster_esquerdo = inversa_diagonal * (1 / np.sum(inversa_diagonal))\n",
    "            vol_cluster_esquerdo = np.dot(pesos_cluster_esquerdo, np.dot(matriz_cov_esquerda, pesos_cluster_esquerdo))\n",
    "\n",
    "            matriz_cov_direita = covariances[cluster_direito].loc[cluster_direito]\n",
    "            inversa_diagonal = 1 / np.diag(matriz_cov_direita.values)\n",
    "            pesos_cluster_direito = inversa_diagonal * (1 / np.sum(inversa_diagonal))\n",
    "            vol_cluster_direito = np.dot(pesos_cluster_direito, np.dot(matriz_cov_direita, pesos_cluster_direito))\n",
    "\n",
    "            fator_alocacao = 1 - vol_cluster_esquerdo / (vol_cluster_esquerdo + vol_cluster_direito)\n",
    "\n",
    "            # Normalização dos clusters da iteração\n",
    "            pesos[cluster_esquerdo] *= fator_alocacao\n",
    "            pesos[cluster_direito] *= 1 - fator_alocacao\n",
    "            \n",
    "    return pesos"
   ]
  },
  {
   "cell_type": "code",
   "execution_count": 18,
   "metadata": {},
   "outputs": [
    {
     "data": {
      "text/plain": [
       "OIBR3.SA    0.158544\n",
       "BPAC3.SA    0.201049\n",
       "PETR4.SA    0.207996\n",
       "BBDC4.SA    0.186993\n",
       "ITUB4.SA    0.245419\n",
       "dtype: float64"
      ]
     },
     "execution_count": 18,
     "metadata": {},
     "output_type": "execute_result"
    }
   ],
   "source": [
    "compute_HRP_weights(retornos.cov(), retornos.columns[dend['leaves']])"
   ]
  },
  {
   "cell_type": "code",
   "execution_count": null,
   "metadata": {},
   "outputs": [],
   "source": []
  }
 ],
 "metadata": {
  "kernelspec": {
   "display_name": "Python 3",
   "language": "python",
   "name": "python3"
  },
  "language_info": {
   "codemirror_mode": {
    "name": "ipython",
    "version": 3
   },
   "file_extension": ".py",
   "mimetype": "text/x-python",
   "name": "python",
   "nbconvert_exporter": "python",
   "pygments_lexer": "ipython3",
   "version": "3.7.9"
  }
 },
 "nbformat": 4,
 "nbformat_minor": 4
}

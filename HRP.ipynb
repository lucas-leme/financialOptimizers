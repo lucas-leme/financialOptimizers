{
 "cells": [
  {
   "cell_type": "code",
   "execution_count": 1,
   "metadata": {},
   "outputs": [],
   "source": [
    "import pandas as pd\n",
    "import numpy as np\n",
    "import yfinance as yf\n",
    "import scipy\n",
    "import sklearn\n",
    "import matplotlib.pyplot as plt\n",
    "import seaborn as sns"
   ]
  },
  {
   "cell_type": "markdown",
   "metadata": {},
   "source": [
    "## Aquisição de Dados"
   ]
  },
  {
   "cell_type": "code",
   "execution_count": 2,
   "metadata": {},
   "outputs": [
    {
     "name": "stdout",
     "output_type": "stream",
     "text": [
      "[*********************100%***********************]  5 of 5 completed\n"
     ]
    }
   ],
   "source": [
    "df = yf.download(['BPAC3.SA', 'PETR4.SA', 'OIBR3.SA', 'ITUB4.SA', 'BBDC4.SA'])['Close']"
   ]
  },
  {
   "cell_type": "code",
   "execution_count": 3,
   "metadata": {},
   "outputs": [
    {
     "data": {
      "text/html": [
       "<div>\n",
       "<style scoped>\n",
       "    .dataframe tbody tr th:only-of-type {\n",
       "        vertical-align: middle;\n",
       "    }\n",
       "\n",
       "    .dataframe tbody tr th {\n",
       "        vertical-align: top;\n",
       "    }\n",
       "\n",
       "    .dataframe thead th {\n",
       "        text-align: right;\n",
       "    }\n",
       "</style>\n",
       "<table border=\"1\" class=\"dataframe\">\n",
       "  <thead>\n",
       "    <tr style=\"text-align: right;\">\n",
       "      <th></th>\n",
       "      <th>BBDC4.SA</th>\n",
       "      <th>BPAC3.SA</th>\n",
       "      <th>ITUB4.SA</th>\n",
       "      <th>OIBR3.SA</th>\n",
       "      <th>PETR4.SA</th>\n",
       "    </tr>\n",
       "    <tr>\n",
       "      <th>Date</th>\n",
       "      <th></th>\n",
       "      <th></th>\n",
       "      <th></th>\n",
       "      <th></th>\n",
       "      <th></th>\n",
       "    </tr>\n",
       "  </thead>\n",
       "  <tbody>\n",
       "    <tr>\n",
       "      <th>2000-01-03</th>\n",
       "      <td>NaN</td>\n",
       "      <td>NaN</td>\n",
       "      <td>NaN</td>\n",
       "      <td>NaN</td>\n",
       "      <td>5.875</td>\n",
       "    </tr>\n",
       "    <tr>\n",
       "      <th>2000-01-04</th>\n",
       "      <td>NaN</td>\n",
       "      <td>NaN</td>\n",
       "      <td>NaN</td>\n",
       "      <td>NaN</td>\n",
       "      <td>5.550</td>\n",
       "    </tr>\n",
       "    <tr>\n",
       "      <th>2000-01-05</th>\n",
       "      <td>NaN</td>\n",
       "      <td>NaN</td>\n",
       "      <td>NaN</td>\n",
       "      <td>NaN</td>\n",
       "      <td>5.494</td>\n",
       "    </tr>\n",
       "    <tr>\n",
       "      <th>2000-01-06</th>\n",
       "      <td>NaN</td>\n",
       "      <td>NaN</td>\n",
       "      <td>NaN</td>\n",
       "      <td>NaN</td>\n",
       "      <td>5.475</td>\n",
       "    </tr>\n",
       "    <tr>\n",
       "      <th>2000-01-07</th>\n",
       "      <td>NaN</td>\n",
       "      <td>NaN</td>\n",
       "      <td>NaN</td>\n",
       "      <td>NaN</td>\n",
       "      <td>5.500</td>\n",
       "    </tr>\n",
       "  </tbody>\n",
       "</table>\n",
       "</div>"
      ],
      "text/plain": [
       "            BBDC4.SA  BPAC3.SA  ITUB4.SA  OIBR3.SA  PETR4.SA\n",
       "Date                                                        \n",
       "2000-01-03       NaN       NaN       NaN       NaN     5.875\n",
       "2000-01-04       NaN       NaN       NaN       NaN     5.550\n",
       "2000-01-05       NaN       NaN       NaN       NaN     5.494\n",
       "2000-01-06       NaN       NaN       NaN       NaN     5.475\n",
       "2000-01-07       NaN       NaN       NaN       NaN     5.500"
      ]
     },
     "execution_count": 3,
     "metadata": {},
     "output_type": "execute_result"
    }
   ],
   "source": [
    "df.head()"
   ]
  },
  {
   "cell_type": "code",
   "execution_count": 4,
   "metadata": {},
   "outputs": [],
   "source": [
    "retornos = df.pct_change().loc['2018-01-01':]"
   ]
  },
  {
   "cell_type": "code",
   "execution_count": 5,
   "metadata": {},
   "outputs": [
    {
     "data": {
      "text/html": [
       "<div>\n",
       "<style scoped>\n",
       "    .dataframe tbody tr th:only-of-type {\n",
       "        vertical-align: middle;\n",
       "    }\n",
       "\n",
       "    .dataframe tbody tr th {\n",
       "        vertical-align: top;\n",
       "    }\n",
       "\n",
       "    .dataframe thead th {\n",
       "        text-align: right;\n",
       "    }\n",
       "</style>\n",
       "<table border=\"1\" class=\"dataframe\">\n",
       "  <thead>\n",
       "    <tr style=\"text-align: right;\">\n",
       "      <th></th>\n",
       "      <th>BBDC4.SA</th>\n",
       "      <th>BPAC3.SA</th>\n",
       "      <th>ITUB4.SA</th>\n",
       "      <th>OIBR3.SA</th>\n",
       "      <th>PETR4.SA</th>\n",
       "    </tr>\n",
       "    <tr>\n",
       "      <th>Date</th>\n",
       "      <th></th>\n",
       "      <th></th>\n",
       "      <th></th>\n",
       "      <th></th>\n",
       "      <th></th>\n",
       "    </tr>\n",
       "  </thead>\n",
       "  <tbody>\n",
       "    <tr>\n",
       "      <th>2018-01-02</th>\n",
       "      <td>0.022157</td>\n",
       "      <td>0.091245</td>\n",
       "      <td>0.030528</td>\n",
       "      <td>-0.008265</td>\n",
       "      <td>0.027950</td>\n",
       "    </tr>\n",
       "    <tr>\n",
       "      <th>2018-01-03</th>\n",
       "      <td>0.004048</td>\n",
       "      <td>0.000000</td>\n",
       "      <td>0.006837</td>\n",
       "      <td>-0.027778</td>\n",
       "      <td>0.009064</td>\n",
       "    </tr>\n",
       "    <tr>\n",
       "      <th>2018-01-04</th>\n",
       "      <td>0.016407</td>\n",
       "      <td>0.000000</td>\n",
       "      <td>0.020826</td>\n",
       "      <td>-0.005712</td>\n",
       "      <td>0.001796</td>\n",
       "    </tr>\n",
       "    <tr>\n",
       "      <th>2018-01-05</th>\n",
       "      <td>0.005664</td>\n",
       "      <td>-0.028249</td>\n",
       "      <td>0.002880</td>\n",
       "      <td>0.005745</td>\n",
       "      <td>0.005977</td>\n",
       "    </tr>\n",
       "    <tr>\n",
       "      <th>2018-01-08</th>\n",
       "      <td>-0.000283</td>\n",
       "      <td>0.000000</td>\n",
       "      <td>-0.003316</td>\n",
       "      <td>-0.011428</td>\n",
       "      <td>0.011884</td>\n",
       "    </tr>\n",
       "  </tbody>\n",
       "</table>\n",
       "</div>"
      ],
      "text/plain": [
       "            BBDC4.SA  BPAC3.SA  ITUB4.SA  OIBR3.SA  PETR4.SA\n",
       "Date                                                        \n",
       "2018-01-02  0.022157  0.091245  0.030528 -0.008265  0.027950\n",
       "2018-01-03  0.004048  0.000000  0.006837 -0.027778  0.009064\n",
       "2018-01-04  0.016407  0.000000  0.020826 -0.005712  0.001796\n",
       "2018-01-05  0.005664 -0.028249  0.002880  0.005745  0.005977\n",
       "2018-01-08 -0.000283  0.000000 -0.003316 -0.011428  0.011884"
      ]
     },
     "execution_count": 5,
     "metadata": {},
     "output_type": "execute_result"
    }
   ],
   "source": [
    "retornos.head()"
   ]
  },
  {
   "cell_type": "markdown",
   "metadata": {},
   "source": [
    "## Clusterização"
   ]
  },
  {
   "cell_type": "markdown",
   "metadata": {},
   "source": [
    "### Normalização dos dados"
   ]
  },
  {
   "cell_type": "code",
   "execution_count": 6,
   "metadata": {},
   "outputs": [
    {
     "data": {
      "text/html": [
       "<div>\n",
       "<style scoped>\n",
       "    .dataframe tbody tr th:only-of-type {\n",
       "        vertical-align: middle;\n",
       "    }\n",
       "\n",
       "    .dataframe tbody tr th {\n",
       "        vertical-align: top;\n",
       "    }\n",
       "\n",
       "    .dataframe thead th {\n",
       "        text-align: right;\n",
       "    }\n",
       "</style>\n",
       "<table border=\"1\" class=\"dataframe\">\n",
       "  <thead>\n",
       "    <tr style=\"text-align: right;\">\n",
       "      <th></th>\n",
       "      <th>BBDC4.SA</th>\n",
       "      <th>BPAC3.SA</th>\n",
       "      <th>ITUB4.SA</th>\n",
       "      <th>OIBR3.SA</th>\n",
       "      <th>PETR4.SA</th>\n",
       "    </tr>\n",
       "  </thead>\n",
       "  <tbody>\n",
       "    <tr>\n",
       "      <th>0</th>\n",
       "      <td>0.215229</td>\n",
       "      <td>0.886330</td>\n",
       "      <td>0.296543</td>\n",
       "      <td>-0.080282</td>\n",
       "      <td>0.271500</td>\n",
       "    </tr>\n",
       "    <tr>\n",
       "      <th>1</th>\n",
       "      <td>0.133676</td>\n",
       "      <td>0.000000</td>\n",
       "      <td>0.225786</td>\n",
       "      <td>-0.917365</td>\n",
       "      <td>0.299321</td>\n",
       "    </tr>\n",
       "    <tr>\n",
       "      <th>2</th>\n",
       "      <td>0.603632</td>\n",
       "      <td>0.000000</td>\n",
       "      <td>0.766222</td>\n",
       "      <td>-0.210154</td>\n",
       "      <td>0.066089</td>\n",
       "    </tr>\n",
       "    <tr>\n",
       "      <th>3</th>\n",
       "      <td>0.188047</td>\n",
       "      <td>-0.937934</td>\n",
       "      <td>0.095632</td>\n",
       "      <td>0.190746</td>\n",
       "      <td>0.198464</td>\n",
       "    </tr>\n",
       "    <tr>\n",
       "      <th>4</th>\n",
       "      <td>-0.016798</td>\n",
       "      <td>0.000000</td>\n",
       "      <td>-0.197172</td>\n",
       "      <td>-0.679446</td>\n",
       "      <td>0.706537</td>\n",
       "    </tr>\n",
       "  </tbody>\n",
       "</table>\n",
       "</div>"
      ],
      "text/plain": [
       "   BBDC4.SA  BPAC3.SA  ITUB4.SA  OIBR3.SA  PETR4.SA\n",
       "0  0.215229  0.886330  0.296543 -0.080282  0.271500\n",
       "1  0.133676  0.000000  0.225786 -0.917365  0.299321\n",
       "2  0.603632  0.000000  0.766222 -0.210154  0.066089\n",
       "3  0.188047 -0.937934  0.095632  0.190746  0.198464\n",
       "4 -0.016798  0.000000 -0.197172 -0.679446  0.706537"
      ]
     },
     "execution_count": 6,
     "metadata": {},
     "output_type": "execute_result"
    }
   ],
   "source": [
    "from sklearn.preprocessing import normalize\n",
    "\n",
    "retornos_normalizados = normalize(retornos)\n",
    "retornos_normalizados = pd.DataFrame(retornos_normalizados, columns=retornos.columns)\n",
    "\n",
    "retornos_normalizados.head()"
   ]
  },
  {
   "cell_type": "code",
   "execution_count": 7,
   "metadata": {},
   "outputs": [
    {
     "data": {
      "image/png": "[encoded data removed]",
      "text/plain": [
       "<Figure size 720x504 with 1 Axes>"
      ]
     },
     "metadata": {
      "needs_background": "light"
     },
     "output_type": "display_data"
    }
   ],
   "source": [
    "import scipy.cluster.hierarchy as shc\n",
    "\n",
    "plt.figure(figsize=(10, 7))  \n",
    "plt.title(\"Dendrograma\")\n",
    "\n",
    "clusters = shc.linkage(retornos_normalizados.T, method='ward', metric='euclidean')\n",
    "\n",
    "dend = shc.dendrogram(clusters, labels=retornos.columns)"
   ]
  },
  {
   "cell_type": "markdown",
   "metadata": {},
   "source": [
    "### Reodernando dataframe de retornos"
   ]
  },
  {
   "cell_type": "code",
   "execution_count": 17,
   "metadata": {},
   "outputs": [
    {
     "data": {
      "text/html": [
       "<div>\n",
       "<style scoped>\n",
       "    .dataframe tbody tr th:only-of-type {\n",
       "        vertical-align: middle;\n",
       "    }\n",
       "\n",
       "    .dataframe tbody tr th {\n",
       "        vertical-align: top;\n",
       "    }\n",
       "\n",
       "    .dataframe thead th {\n",
       "        text-align: right;\n",
       "    }\n",
       "</style>\n",
       "<table border=\"1\" class=\"dataframe\">\n",
       "  <thead>\n",
       "    <tr style=\"text-align: right;\">\n",
       "      <th></th>\n",
       "      <th>OIBR3.SA</th>\n",
       "      <th>BPAC3.SA</th>\n",
       "      <th>PETR4.SA</th>\n",
       "      <th>BBDC4.SA</th>\n",
       "      <th>ITUB4.SA</th>\n",
       "    </tr>\n",
       "    <tr>\n",
       "      <th>Date</th>\n",
       "      <th></th>\n",
       "      <th></th>\n",
       "      <th></th>\n",
       "      <th></th>\n",
       "      <th></th>\n",
       "    </tr>\n",
       "  </thead>\n",
       "  <tbody>\n",
       "    <tr>\n",
       "      <th>2018-01-02</th>\n",
       "      <td>-0.008265</td>\n",
       "      <td>0.091245</td>\n",
       "      <td>0.027950</td>\n",
       "      <td>0.022157</td>\n",
       "      <td>0.030528</td>\n",
       "    </tr>\n",
       "    <tr>\n",
       "      <th>2018-01-03</th>\n",
       "      <td>-0.027778</td>\n",
       "      <td>0.000000</td>\n",
       "      <td>0.009064</td>\n",
       "      <td>0.004048</td>\n",
       "      <td>0.006837</td>\n",
       "    </tr>\n",
       "    <tr>\n",
       "      <th>2018-01-04</th>\n",
       "      <td>-0.005712</td>\n",
       "      <td>0.000000</td>\n",
       "      <td>0.001796</td>\n",
       "      <td>0.016407</td>\n",
       "      <td>0.020826</td>\n",
       "    </tr>\n",
       "    <tr>\n",
       "      <th>2018-01-05</th>\n",
       "      <td>0.005745</td>\n",
       "      <td>-0.028249</td>\n",
       "      <td>0.005977</td>\n",
       "      <td>0.005664</td>\n",
       "      <td>0.002880</td>\n",
       "    </tr>\n",
       "    <tr>\n",
       "      <th>2018-01-08</th>\n",
       "      <td>-0.011428</td>\n",
       "      <td>0.000000</td>\n",
       "      <td>0.011884</td>\n",
       "      <td>-0.000283</td>\n",
       "      <td>-0.003316</td>\n",
       "    </tr>\n",
       "    <tr>\n",
       "      <th>...</th>\n",
       "      <td>...</td>\n",
       "      <td>...</td>\n",
       "      <td>...</td>\n",
       "      <td>...</td>\n",
       "      <td>...</td>\n",
       "    </tr>\n",
       "    <tr>\n",
       "      <th>2020-09-14</th>\n",
       "      <td>0.134969</td>\n",
       "      <td>-0.010552</td>\n",
       "      <td>-0.009141</td>\n",
       "      <td>0.011730</td>\n",
       "      <td>0.017774</td>\n",
       "    </tr>\n",
       "    <tr>\n",
       "      <th>2020-09-15</th>\n",
       "      <td>-0.021622</td>\n",
       "      <td>-0.024661</td>\n",
       "      <td>-0.000461</td>\n",
       "      <td>-0.010628</td>\n",
       "      <td>-0.013306</td>\n",
       "    </tr>\n",
       "    <tr>\n",
       "      <th>2020-09-16</th>\n",
       "      <td>0.005525</td>\n",
       "      <td>-0.006834</td>\n",
       "      <td>0.002769</td>\n",
       "      <td>0.001953</td>\n",
       "      <td>-0.002950</td>\n",
       "    </tr>\n",
       "    <tr>\n",
       "      <th>2020-09-17</th>\n",
       "      <td>0.010989</td>\n",
       "      <td>-0.019954</td>\n",
       "      <td>0.019328</td>\n",
       "      <td>0.002437</td>\n",
       "      <td>0.001268</td>\n",
       "    </tr>\n",
       "    <tr>\n",
       "      <th>2020-09-18</th>\n",
       "      <td>-0.021739</td>\n",
       "      <td>-0.052422</td>\n",
       "      <td>-0.022573</td>\n",
       "      <td>-0.023821</td>\n",
       "      <td>-0.024905</td>\n",
       "    </tr>\n",
       "  </tbody>\n",
       "</table>\n",
       "<p>672 rows × 5 columns</p>\n",
       "</div>"
      ],
      "text/plain": [
       "            OIBR3.SA  BPAC3.SA  PETR4.SA  BBDC4.SA  ITUB4.SA\n",
       "Date                                                        \n",
       "2018-01-02 -0.008265  0.091245  0.027950  0.022157  0.030528\n",
       "2018-01-03 -0.027778  0.000000  0.009064  0.004048  0.006837\n",
       "2018-01-04 -0.005712  0.000000  0.001796  0.016407  0.020826\n",
       "2018-01-05  0.005745 -0.028249  0.005977  0.005664  0.002880\n",
       "2018-01-08 -0.011428  0.000000  0.011884 -0.000283 -0.003316\n",
       "...              ...       ...       ...       ...       ...\n",
       "2020-09-14  0.134969 -0.010552 -0.009141  0.011730  0.017774\n",
       "2020-09-15 -0.021622 -0.024661 -0.000461 -0.010628 -0.013306\n",
       "2020-09-16  0.005525 -0.006834  0.002769  0.001953 -0.002950\n",
       "2020-09-17  0.010989 -0.019954  0.019328  0.002437  0.001268\n",
       "2020-09-18 -0.021739 -0.052422 -0.022573 -0.023821 -0.024905\n",
       "\n",
       "[672 rows x 5 columns]"
      ]
     },
     "execution_count": 17,
     "metadata": {},
     "output_type": "execute_result"
    }
   ],
   "source": [
    "retornos.iloc[:,dend['leaves']]"
   ]
  },
  {
   "cell_type": "markdown",
   "metadata": {},
   "source": [
    "## Matrix Seriation"
   ]
  },
  {
   "cell_type": "code",
   "execution_count": 8,
   "metadata": {},
   "outputs": [
    {
     "data": {
      "text/plain": [
       "<AxesSubplot:>"
      ]
     },
     "execution_count": 8,
     "metadata": {},
     "output_type": "execute_result"
    },
    {
     "data": {
      "image/png": "[encoded data removed]",
      "text/plain": [
       "<Figure size 432x288 with 2 Axes>"
      ]
     },
     "metadata": {
      "needs_background": "light"
     },
     "output_type": "display_data"
    }
   ],
   "source": [
    "sns.heatmap(np.cov(retornos.T))"
   ]
  },
  {
   "cell_type": "code",
   "execution_count": 16,
   "metadata": {},
   "outputs": [
    {
     "data": {
      "text/plain": [
       "<AxesSubplot:>"
      ]
     },
     "execution_count": 16,
     "metadata": {},
     "output_type": "execute_result"
    },
    {
     "data": {
      "image/png": "[encoded data removed]",
      "text/plain": [
       "<Figure size 432x288 with 2 Axes>"
      ]
     },
     "metadata": {
      "needs_background": "light"
     },
     "output_type": "display_data"
    }
   ],
   "source": [
    "sns.heatmap(np.cov(retornos.iloc[:,dend['leaves']].T))"
   ]
  },
  {
   "cell_type": "code",
   "execution_count": null,
   "metadata": {},
   "outputs": [],
   "source": []
  },
  {
   "cell_type": "code",
   "execution_count": 32,
   "metadata": {},
   "outputs": [],
   "source": [
    "def compute_HRP_weights(covariances, res_order):\n",
    "    # Inicialização de pesos\n",
    "    pesos = pd.Series(1, index=res_order)\n",
    "    clustered_alphas = [res_order]\n",
    "\n",
    "    while len(clustered_alphas) > 0:\n",
    "        # Instanciação de clusters do laço\n",
    "        clustered_alphas = [cluster[start:end] for cluster in clustered_alphas\n",
    "                            for start, end in ((0, len(cluster) // 2),\n",
    "                                               (len(cluster) // 2, len(cluster)))\n",
    "                            if len(cluster) > 1]\n",
    "        print(clustered_alphas)\n",
    "\n",
    "        # Iteração entre pares semelhantes\n",
    "        for subcluster in range(0, len(clustered_alphas), 2):\n",
    "            # Separação de galhos da árvore\n",
    "            left_cluster = clustered_alphas[subcluster]\n",
    "            right_cluster = clustered_alphas[subcluster + 1]\n",
    "            \n",
    "            # Calcula da matriz de covarinças do primeiro cluster\n",
    "            left_subcovar = covariances[left_cluster].loc[left_cluster]\n",
    "            inv_diag = 1 / np.diag(left_subcovar.values)\n",
    "            parity_w = inv_diag * (1 / np.sum(inv_diag))\n",
    "            left_cluster_var = np.dot(parity_w, np.dot(left_subcovar, parity_w))\n",
    "\n",
    "            # Calcula da matriz de covarinças do segundo cluster\n",
    "            right_subcovar = covariances[right_cluster].loc[right_cluster]\n",
    "            inv_diag = 1 / np.diag(right_subcovar.values)\n",
    "            parity_w = inv_diag * (1 / np.sum(inv_diag))\n",
    "            right_cluster_var = np.dot(parity_w, np.dot(right_subcovar, parity_w))\n",
    "\n",
    "            # Fator de alocação inter cluster\n",
    "            alloc_factor = 1 - left_cluster_var / (left_cluster_var + right_cluster_var)\n",
    "\n",
    "            # Normalização dos clusters esquerdo e direito\n",
    "            pesos[left_cluster] *= alloc_factor\n",
    "            pesos[right_cluster] *= 1 - alloc_factor\n",
    "            \n",
    "    return pesos"
   ]
  },
  {
   "cell_type": "code",
   "execution_count": 33,
   "metadata": {},
   "outputs": [
    {
     "name": "stdout",
     "output_type": "stream",
     "text": [
      "[Index(['OIBR3.SA', 'BPAC3.SA'], dtype='object'), Index(['PETR4.SA', 'BBDC4.SA', 'ITUB4.SA'], dtype='object')]\n",
      "[Index(['OIBR3.SA'], dtype='object'), Index(['BPAC3.SA'], dtype='object'), Index(['PETR4.SA'], dtype='object'), Index(['BBDC4.SA', 'ITUB4.SA'], dtype='object')]\n",
      "[Index(['BBDC4.SA'], dtype='object'), Index(['ITUB4.SA'], dtype='object')]\n",
      "[]\n"
     ]
    },
    {
     "data": {
      "text/plain": [
       "OIBR3.SA    0.158242\n",
       "BPAC3.SA    0.200618\n",
       "PETR4.SA    0.207976\n",
       "BBDC4.SA    0.186682\n",
       "ITUB4.SA    0.246482\n",
       "dtype: float64"
      ]
     },
     "execution_count": 33,
     "metadata": {},
     "output_type": "execute_result"
    }
   ],
   "source": [
    "compute_HRP_weights(retornos.cov(), retornos.columns[dend['leaves']])"
   ]
  },
  {
   "cell_type": "code",
   "execution_count": null,
   "metadata": {},
   "outputs": [],
   "source": []
  }
 ],
 "metadata": {
  "kernelspec": {
   "display_name": "Python 3",
   "language": "python",
   "name": "python3"
  },
  "language_info": {
   "codemirror_mode": {
    "name": "ipython",
    "version": 3
   },
   "file_extension": ".py",
   "mimetype": "text/x-python",
   "name": "python",
   "nbconvert_exporter": "python",
   "pygments_lexer": "ipython3",
   "version": "3.7.9"
  }
 },
 "nbformat": 4,
 "nbformat_minor": 4
}

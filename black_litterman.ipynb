{
 "cells": [
  {
   "cell_type": "code",
   "execution_count": 1,
   "metadata": {},
   "outputs": [],
   "source": [
    "import numpy as np\n",
    "import pandas as pd"
   ]
  },
  {
   "cell_type": "code",
   "execution_count": 52,
   "metadata": {},
   "outputs": [],
   "source": [
    "N = 10\n",
    "K = 5\n",
    "delta = 0.2\n",
    "\n",
    "cov_matrix = np.random.randn(N, N)\n",
    "market_weigths = np.random.randn(N, 1)\n",
    "error_diagonal = np.random.randn(K, K)\n",
    "P = np.random.randn(K, N)\n",
    "Q = np.random.randn(K, 1)"
   ]
  },
  {
   "cell_type": "code",
   "execution_count": 53,
   "metadata": {},
   "outputs": [],
   "source": [
    "def reverse_optimization(delta, cov_matrix, market_weigths):\n",
    "    \n",
    "    excess_returns = delta * np.dot(cov_matrix, market_weigths)\n",
    "    \n",
    "    return excess_returns"
   ]
  },
  {
   "cell_type": "code",
   "execution_count": 54,
   "metadata": {},
   "outputs": [
    {
     "data": {
      "text/plain": [
       "array([[-1.09256036],\n",
       "       [ 0.31404725],\n",
       "       [-0.31346142],\n",
       "       [ 0.63039769],\n",
       "       [ 0.75972184],\n",
       "       [-0.56318917],\n",
       "       [-0.45652765],\n",
       "       [ 0.38452868],\n",
       "       [-0.9694848 ],\n",
       "       [ 0.69429561]])"
      ]
     },
     "execution_count": 54,
     "metadata": {},
     "output_type": "execute_result"
    }
   ],
   "source": [
    "reverse_optimization(delta, cov_matrix, market_weigths)"
   ]
  },
  {
   "cell_type": "code",
   "execution_count": 55,
   "metadata": {},
   "outputs": [],
   "source": [
    "def diag(A, B):\n",
    "    B_inverse = np.linalg.inv(B)\n",
    "    \n",
    "    return np.dot(A.T, np.dot(B_inverse, A))"
   ]
  },
  {
   "cell_type": "code",
   "execution_count": 56,
   "metadata": {},
   "outputs": [
    {
     "data": {
      "text/plain": [
       "array([[ -4.5674295 ,  -2.94059707,   0.33011629,   6.11623944,\n",
       "          2.61796911,  -5.47149661,   5.31185314,   5.63703581,\n",
       "          6.95736284,  -5.10529779],\n",
       "       [  1.58750306,   2.14745958,  -0.03158915,  -0.21286091,\n",
       "         -0.07364802,   2.97029533,  -2.30337618,  -2.05335275,\n",
       "         -2.77841606,   3.8152357 ],\n",
       "       [ -4.51800038,  -1.73543118,   1.49063647,   6.70265163,\n",
       "          1.79215089,  -3.99010313,   3.58229426,   5.76446082,\n",
       "          6.09663082,  -3.99454333],\n",
       "       [-16.58945315,  -7.76202975,   2.92480045,  20.89835974,\n",
       "          6.29300933, -16.49942249,  13.31725461,  19.9442718 ,\n",
       "         25.55140183, -15.62149947],\n",
       "       [ -5.3909235 ,  -3.42616811,   0.14014602,   5.00005288,\n",
       "          1.10643353,  -6.76361738,   4.12223109,   5.79280246,\n",
       "         10.88064599,  -6.35280719],\n",
       "       [  2.61305758,   2.50753327,  -0.28057746,  -1.46284003,\n",
       "         -0.71789615,   3.61655839,  -3.24224911,  -3.50436799,\n",
       "         -3.41113533,   4.56622967],\n",
       "       [-11.18063943,  -7.88016971,   1.06191451,  10.72502449,\n",
       "          2.9936256 , -14.20067818,  10.49985947,  13.15727532,\n",
       "         19.65866399, -14.70597323],\n",
       "       [  1.9964681 ,   1.3820666 ,   0.24130011,  -3.39218907,\n",
       "         -2.3254417 ,   2.36851824,  -3.42859741,  -2.67780931,\n",
       "         -2.08133383,   1.85748225],\n",
       "       [  6.97272824,   4.62570929,  -0.64935507,  -8.22432999,\n",
       "         -1.65394221,   9.36723914,  -6.08317513,  -7.58382403,\n",
       "        -14.75076092,   8.69764007],\n",
       "       [  2.45493643,   2.82564747,  -0.7285498 ,  -1.13365727,\n",
       "         -0.15851798,   3.87838363,  -3.3228613 ,  -3.51593809,\n",
       "         -3.21668183,   5.45654083]])"
      ]
     },
     "execution_count": 56,
     "metadata": {},
     "output_type": "execute_result"
    }
   ],
   "source": [
    "diag(P, error_diagonal)"
   ]
  },
  {
   "cell_type": "code",
   "execution_count": 57,
   "metadata": {},
   "outputs": [],
   "source": [
    "def black_litterman(tau, cov_matrix, P, error_diagonal, excess_returns, views):\n",
    "    \n",
    "    scalled_cov_matrix = np.linalg.inv(np.dot(tau, cov_matrix))\n",
    "    \n",
    "    P_omega = diag(P, error_diagonal)\n",
    "    \n",
    "    Factor1 = np.linalg.inv(scalled_cov_matrix + P_omega)\n",
    "    \n",
    "    Factor2 = np.dot(scalled_cov_matrix, excess_returns) + np.dot(P.T, np.dot(error_diagonal, views))\n",
    "    \n",
    "    return np.dot(Factor1, Factor2)"
   ]
  },
  {
   "cell_type": "code",
   "execution_count": 58,
   "metadata": {},
   "outputs": [],
   "source": [
    "tau = 0.5\n",
    "excess_returns = reverse_optimization(delta, cov_matrix, market_weigths)\n",
    "views = np.random.randn(K, 1)"
   ]
  },
  {
   "cell_type": "code",
   "execution_count": 59,
   "metadata": {},
   "outputs": [
    {
     "data": {
      "text/plain": [
       "array([[-1.77310585],\n",
       "       [11.30909655],\n",
       "       [ 0.27150175],\n",
       "       [-7.72055393],\n",
       "       [-3.61847335],\n",
       "       [-2.47906823],\n",
       "       [ 6.40710094],\n",
       "       [ 6.67948688],\n",
       "       [ 2.11463149],\n",
       "       [ 4.49153419]])"
      ]
     },
     "execution_count": 59,
     "metadata": {},
     "output_type": "execute_result"
    }
   ],
   "source": [
    "black_litterman(tau, cov_matrix, P, error_diagonal, excess_returns, views)"
   ]
  },
  {
   "cell_type": "code",
   "execution_count": null,
   "metadata": {},
   "outputs": [],
   "source": []
  }
 ],
 "metadata": {
  "kernelspec": {
   "display_name": "Python 3",
   "language": "python",
   "name": "python3"
  },
  "language_info": {
   "codemirror_mode": {
    "name": "ipython",
    "version": 3
   },
   "file_extension": ".py",
   "mimetype": "text/x-python",
   "name": "python",
   "nbconvert_exporter": "python",
   "pygments_lexer": "ipython3",
   "version": "3.7.9"
  }
 },
 "nbformat": 4,
 "nbformat_minor": 4
}

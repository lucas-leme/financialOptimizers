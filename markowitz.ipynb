{
 "cells": [
  {
   "cell_type": "code",
   "execution_count": 209,
   "metadata": {},
   "outputs": [],
   "source": [
    "import numpy as np\n",
    "import pandas as pd\n",
    "import matplotlib.pyplot as plt\n",
    "import yfinance as yf"
   ]
  },
  {
   "cell_type": "code",
   "execution_count": 91,
   "metadata": {},
   "outputs": [],
   "source": [
    "alaska_df = pd.read_excel(\"alaska.xlsx\")\n",
    "arx_df = pd.read_excel(\"arx.xlsx\")\n",
    "darius_df = pd.read_excel(\"darius.xlsx\")"
   ]
  },
  {
   "cell_type": "code",
   "execution_count": 92,
   "metadata": {},
   "outputs": [
    {
     "data": {
      "text/html": [
       "<div>\n",
       "<style scoped>\n",
       "    .dataframe tbody tr th:only-of-type {\n",
       "        vertical-align: middle;\n",
       "    }\n",
       "\n",
       "    .dataframe tbody tr th {\n",
       "        vertical-align: top;\n",
       "    }\n",
       "\n",
       "    .dataframe thead th {\n",
       "        text-align: right;\n",
       "    }\n",
       "</style>\n",
       "<table border=\"1\" class=\"dataframe\">\n",
       "  <thead>\n",
       "    <tr style=\"text-align: right;\">\n",
       "      <th></th>\n",
       "      <th>ARX Income FIA</th>\n",
       "      <th>Unnamed: 1</th>\n",
       "      <th>Unnamed: 2</th>\n",
       "      <th>Unnamed: 3</th>\n",
       "      <th>Unnamed: 4</th>\n",
       "      <th>Unnamed: 5</th>\n",
       "      <th>Unnamed: 6</th>\n",
       "      <th>Unnamed: 7</th>\n",
       "      <th>Unnamed: 8</th>\n",
       "      <th>Economatica</th>\n",
       "    </tr>\n",
       "  </thead>\n",
       "  <tbody>\n",
       "    <tr>\n",
       "      <th>0</th>\n",
       "      <td>Em R$ Real</td>\n",
       "      <td>NaN</td>\n",
       "      <td>NaN</td>\n",
       "      <td>NaN</td>\n",
       "      <td>NaN</td>\n",
       "      <td>NaN</td>\n",
       "      <td>NaN</td>\n",
       "      <td>NaN</td>\n",
       "      <td>NaN</td>\n",
       "      <td>NaN</td>\n",
       "    </tr>\n",
       "    <tr>\n",
       "      <th>1</th>\n",
       "      <td>NaN</td>\n",
       "      <td>NaN</td>\n",
       "      <td>NaN</td>\n",
       "      <td>NaN</td>\n",
       "      <td>NaN</td>\n",
       "      <td>NaN</td>\n",
       "      <td>NaN</td>\n",
       "      <td>NaN</td>\n",
       "      <td>NaN</td>\n",
       "      <td>NaN</td>\n",
       "    </tr>\n",
       "    <tr>\n",
       "      <th>2</th>\n",
       "      <td>Data</td>\n",
       "      <td>Cota</td>\n",
       "      <td>Patrimônio</td>\n",
       "      <td>Capt Líq</td>\n",
       "      <td>Captação</td>\n",
       "      <td>Resg Total</td>\n",
       "      <td>Resgate</td>\n",
       "      <td>Resg IR</td>\n",
       "      <td>Q Cotistas</td>\n",
       "      <td>Fonte</td>\n",
       "    </tr>\n",
       "    <tr>\n",
       "      <th>3</th>\n",
       "      <td>1999-07-01 00:00:00</td>\n",
       "      <td>1</td>\n",
       "      <td>2000</td>\n",
       "      <td>-</td>\n",
       "      <td>-</td>\n",
       "      <td>-</td>\n",
       "      <td>-</td>\n",
       "      <td>-</td>\n",
       "      <td>-</td>\n",
       "      <td>ANBIMA</td>\n",
       "    </tr>\n",
       "    <tr>\n",
       "      <th>4</th>\n",
       "      <td>1999-07-02 00:00:00</td>\n",
       "      <td>-</td>\n",
       "      <td>-</td>\n",
       "      <td>-</td>\n",
       "      <td>-</td>\n",
       "      <td>-</td>\n",
       "      <td>-</td>\n",
       "      <td>-</td>\n",
       "      <td>-</td>\n",
       "      <td>-</td>\n",
       "    </tr>\n",
       "  </tbody>\n",
       "</table>\n",
       "</div>"
      ],
      "text/plain": [
       "        ARX Income FIA Unnamed: 1  Unnamed: 2 Unnamed: 3 Unnamed: 4  \\\n",
       "0           Em R$ Real        NaN         NaN        NaN        NaN   \n",
       "1                  NaN        NaN         NaN        NaN        NaN   \n",
       "2                 Data       Cota  Patrimônio   Capt Líq   Captação   \n",
       "3  1999-07-01 00:00:00          1        2000          -          -   \n",
       "4  1999-07-02 00:00:00          -           -          -          -   \n",
       "\n",
       "   Unnamed: 5 Unnamed: 6 Unnamed: 7  Unnamed: 8 Economatica  \n",
       "0         NaN        NaN        NaN         NaN         NaN  \n",
       "1         NaN        NaN        NaN         NaN         NaN  \n",
       "2  Resg Total    Resgate    Resg IR  Q Cotistas       Fonte  \n",
       "3           -          -          -           -      ANBIMA  \n",
       "4           -          -          -           -           -  "
      ]
     },
     "execution_count": 92,
     "metadata": {},
     "output_type": "execute_result"
    }
   ],
   "source": [
    "arx_df.head()"
   ]
  },
  {
   "cell_type": "code",
   "execution_count": 93,
   "metadata": {},
   "outputs": [
    {
     "data": {
      "text/html": [
       "<div>\n",
       "<style scoped>\n",
       "    .dataframe tbody tr th:only-of-type {\n",
       "        vertical-align: middle;\n",
       "    }\n",
       "\n",
       "    .dataframe tbody tr th {\n",
       "        vertical-align: top;\n",
       "    }\n",
       "\n",
       "    .dataframe thead th {\n",
       "        text-align: right;\n",
       "    }\n",
       "</style>\n",
       "<table border=\"1\" class=\"dataframe\">\n",
       "  <thead>\n",
       "    <tr style=\"text-align: right;\">\n",
       "      <th></th>\n",
       "      <th>Giant Darius Fc FI Mult</th>\n",
       "      <th>Unnamed: 1</th>\n",
       "      <th>Unnamed: 2</th>\n",
       "      <th>Unnamed: 3</th>\n",
       "      <th>Unnamed: 4</th>\n",
       "      <th>Unnamed: 5</th>\n",
       "      <th>Unnamed: 6</th>\n",
       "      <th>Unnamed: 7</th>\n",
       "      <th>Unnamed: 8</th>\n",
       "      <th>Economatica</th>\n",
       "    </tr>\n",
       "  </thead>\n",
       "  <tbody>\n",
       "    <tr>\n",
       "      <th>0</th>\n",
       "      <td>Em R$ Real</td>\n",
       "      <td>NaN</td>\n",
       "      <td>NaN</td>\n",
       "      <td>NaN</td>\n",
       "      <td>NaN</td>\n",
       "      <td>NaN</td>\n",
       "      <td>NaN</td>\n",
       "      <td>NaN</td>\n",
       "      <td>NaN</td>\n",
       "      <td>NaN</td>\n",
       "    </tr>\n",
       "    <tr>\n",
       "      <th>1</th>\n",
       "      <td>NaN</td>\n",
       "      <td>NaN</td>\n",
       "      <td>NaN</td>\n",
       "      <td>NaN</td>\n",
       "      <td>NaN</td>\n",
       "      <td>NaN</td>\n",
       "      <td>NaN</td>\n",
       "      <td>NaN</td>\n",
       "      <td>NaN</td>\n",
       "      <td>NaN</td>\n",
       "    </tr>\n",
       "    <tr>\n",
       "      <th>2</th>\n",
       "      <td>Data</td>\n",
       "      <td>Cota</td>\n",
       "      <td>Patrimônio</td>\n",
       "      <td>Capt Líq</td>\n",
       "      <td>Captação</td>\n",
       "      <td>Resg Total</td>\n",
       "      <td>Resgate</td>\n",
       "      <td>Resg IR</td>\n",
       "      <td>Q Cotistas</td>\n",
       "      <td>Fonte</td>\n",
       "    </tr>\n",
       "    <tr>\n",
       "      <th>3</th>\n",
       "      <td>2018-11-01 00:00:00</td>\n",
       "      <td>1</td>\n",
       "      <td>5000000</td>\n",
       "      <td>5000000</td>\n",
       "      <td>5000000</td>\n",
       "      <td>0</td>\n",
       "      <td>0</td>\n",
       "      <td>0</td>\n",
       "      <td>1</td>\n",
       "      <td>CVM</td>\n",
       "    </tr>\n",
       "    <tr>\n",
       "      <th>4</th>\n",
       "      <td>2018-11-02 00:00:00</td>\n",
       "      <td>-</td>\n",
       "      <td>-</td>\n",
       "      <td>-</td>\n",
       "      <td>-</td>\n",
       "      <td>-</td>\n",
       "      <td>-</td>\n",
       "      <td>-</td>\n",
       "      <td>-</td>\n",
       "      <td>-</td>\n",
       "    </tr>\n",
       "  </tbody>\n",
       "</table>\n",
       "</div>"
      ],
      "text/plain": [
       "  Giant Darius Fc FI Mult Unnamed: 1  Unnamed: 2 Unnamed: 3 Unnamed: 4  \\\n",
       "0              Em R$ Real        NaN         NaN        NaN        NaN   \n",
       "1                     NaN        NaN         NaN        NaN        NaN   \n",
       "2                    Data       Cota  Patrimônio   Capt Líq   Captação   \n",
       "3     2018-11-01 00:00:00          1     5000000    5000000    5000000   \n",
       "4     2018-11-02 00:00:00          -           -          -          -   \n",
       "\n",
       "   Unnamed: 5 Unnamed: 6 Unnamed: 7  Unnamed: 8 Economatica  \n",
       "0         NaN        NaN        NaN         NaN         NaN  \n",
       "1         NaN        NaN        NaN         NaN         NaN  \n",
       "2  Resg Total    Resgate    Resg IR  Q Cotistas       Fonte  \n",
       "3           0          0          0           1         CVM  \n",
       "4           -          -          -           -           -  "
      ]
     },
     "execution_count": 93,
     "metadata": {},
     "output_type": "execute_result"
    }
   ],
   "source": [
    "darius_df.head()"
   ]
  },
  {
   "cell_type": "code",
   "execution_count": 99,
   "metadata": {
    "scrolled": true
   },
   "outputs": [],
   "source": [
    "def clean_economatica(df):\n",
    "    # Nome das colunas\n",
    "    df.columns = df.iloc[2]\n",
    "    \n",
    "    # Eliminando cabeçalho\n",
    "    df = df.iloc[3:]\n",
    "    \n",
    "    # Atribuindo data no indice\n",
    "    dates = df.iloc[:,0]\n",
    "    df = df.drop([\"Data\"], axis=1)\n",
    "    df.index = dates\n",
    "    \n",
    "    # Transformando os dados em numericos\n",
    "    df = df.iloc[:,:-1].apply(pd.to_numeric, errors='coerce').dropna()\n",
    "\n",
    "    return df"
   ]
  },
  {
   "cell_type": "code",
   "execution_count": 100,
   "metadata": {},
   "outputs": [],
   "source": [
    "alaska = clean_economatica(alaska_df)\n",
    "arx = clean_economatica(arx_df)\n",
    "darius = clean_economatica(darius_df)"
   ]
  },
  {
   "cell_type": "code",
   "execution_count": 101,
   "metadata": {},
   "outputs": [
    {
     "data": {
      "text/plain": [
       "<matplotlib.axes._subplots.AxesSubplot at 0x117c92ed0>"
      ]
     },
     "execution_count": 101,
     "metadata": {},
     "output_type": "execute_result"
    },
    {
     "data": {
      "image/png": "[encoded data removed]",
      "text/plain": [
       "<Figure size 432x288 with 1 Axes>"
      ]
     },
     "metadata": {
      "needs_background": "light"
     },
     "output_type": "display_data"
    }
   ],
   "source": [
    "alaska.Cota.plot()"
   ]
  },
  {
   "cell_type": "code",
   "execution_count": 102,
   "metadata": {},
   "outputs": [
    {
     "data": {
      "text/plain": [
       "<matplotlib.axes._subplots.AxesSubplot at 0x1174fb610>"
      ]
     },
     "execution_count": 102,
     "metadata": {},
     "output_type": "execute_result"
    },
    {
     "data": {
      "image/png": "[encoded data removed]",
      "text/plain": [
       "<Figure size 432x288 with 1 Axes>"
      ]
     },
     "metadata": {
      "needs_background": "light"
     },
     "output_type": "display_data"
    }
   ],
   "source": [
    "arx.Cota.plot()"
   ]
  },
  {
   "cell_type": "code",
   "execution_count": 103,
   "metadata": {},
   "outputs": [
    {
     "data": {
      "text/plain": [
       "<matplotlib.axes._subplots.AxesSubplot at 0x117a41610>"
      ]
     },
     "execution_count": 103,
     "metadata": {},
     "output_type": "execute_result"
    },
    {
     "data": {
      "image/png": "[encoded data removed]",
      "text/plain": [
       "<Figure size 432x288 with 1 Axes>"
      ]
     },
     "metadata": {
      "needs_background": "light"
     },
     "output_type": "display_data"
    }
   ],
   "source": [
    "darius.Cota.plot()"
   ]
  },
  {
   "cell_type": "code",
   "execution_count": 134,
   "metadata": {},
   "outputs": [
    {
     "data": {
      "text/plain": [
       "<matplotlib.axes._subplots.AxesSubplot at 0x118bd4390>"
      ]
     },
     "execution_count": 134,
     "metadata": {},
     "output_type": "execute_result"
    },
    {
     "data": {
      "image/png": "[encoded data removed]",
      "text/plain": [
       "<Figure size 432x288 with 1 Axes>"
      ]
     },
     "metadata": {
      "needs_background": "light"
     },
     "output_type": "display_data"
    }
   ],
   "source": []
  },
  {
   "cell_type": "code",
   "execution_count": 136,
   "metadata": {},
   "outputs": [
    {
     "data": {
      "text/plain": [
       "0.04047757613365044"
      ]
     },
     "execution_count": 136,
     "metadata": {},
     "output_type": "execute_result"
    }
   ],
   "source": [
    "alaska.Cota[-1] / alaska.Cota[-2]  - 1"
   ]
  },
  {
   "cell_type": "code",
   "execution_count": 142,
   "metadata": {},
   "outputs": [],
   "source": [
    "def daily_returns (cumulative_returns):\n",
    "    returns = []\n",
    "    \n",
    "    for i in range(len(cumulative_returns[::-1])):\n",
    "        \n",
    "        r = cumulative_returns[i] / cumulative_returns[i-1] - 1\n",
    "        \n",
    "        returns.append(r)\n",
    "        \n",
    "    return returns[::-1]"
   ]
  },
  {
   "cell_type": "code",
   "execution_count": 150,
   "metadata": {},
   "outputs": [],
   "source": [
    "a = daily_returns(alaska.Cota.to_numpy())\n",
    "d = daily_returns(darius.Cota.to_numpy())\n",
    "ar = daily_returns(arx.Cota.to_numpy())"
   ]
  },
  {
   "cell_type": "code",
   "execution_count": 158,
   "metadata": {},
   "outputs": [],
   "source": [
    "arx[\"daily_returns\"] = ar\n",
    "darius[\"daily_returns\"] = d\n",
    "alaska[\"daily_returns\"] = a"
   ]
  },
  {
   "cell_type": "code",
   "execution_count": 210,
   "metadata": {},
   "outputs": [
    {
     "name": "stdout",
     "output_type": "stream",
     "text": [
      "[*********************100%***********************]  1 of 1 completed\n"
     ]
    }
   ],
   "source": [
    "bcff11 = yf.download(\"BCFF11.SA\").pct_change()"
   ]
  },
  {
   "cell_type": "code",
   "execution_count": 212,
   "metadata": {},
   "outputs": [],
   "source": [
    "returns = pd.concat([arx[\"daily_returns\"],darius[\"daily_returns\"],alaska[\"daily_returns\"], bcff11[\"Close\"]], axis=1)\n",
    "returns.columns = [\"ARX\", \"Darius\",\"Alaska\", \"BCFF11\"]"
   ]
  },
  {
   "cell_type": "code",
   "execution_count": 213,
   "metadata": {},
   "outputs": [
    {
     "data": {
      "text/plain": [
       "<matplotlib.axes._subplots.AxesSubplot at 0x11ab72b50>"
      ]
     },
     "execution_count": 213,
     "metadata": {},
     "output_type": "execute_result"
    },
    {
     "data": {
      "image/png": "[encoded data removed]",
      "text/plain": [
       "<Figure size 432x288 with 1 Axes>"
      ]
     },
     "metadata": {
      "needs_background": "light"
     },
     "output_type": "display_data"
    }
   ],
   "source": [
    "returns[:-2].dropna().plot()"
   ]
  },
  {
   "cell_type": "code",
   "execution_count": 233,
   "metadata": {},
   "outputs": [],
   "source": [
    "def markowitz( returns, num_portfolios=5000, risk_free=0):\n",
    "\n",
    "        exp_return = returns.mean()\n",
    "\n",
    "        # vetores de dados\n",
    "        portfolio_weights = []\n",
    "        \n",
    "        vols = []\n",
    "        exp_returns = []\n",
    "        sharpes = []\n",
    "        \n",
    "        # matriz de covariancia dos ativos\n",
    "        cov_matrix = returns.cov()\n",
    "        \n",
    "        period, stocks = returns.shape\n",
    "\n",
    "        # simulando diversos portfolios\n",
    "        for i in range(num_portfolios):\n",
    "\n",
    "            # construindo o vetor de pesos\n",
    "            weights = np.random.uniform(0.2, 1, stocks)\n",
    "            weights = weights/np.sum(weights)\n",
    "\n",
    "            # calculando o retorno esperado da carteira\n",
    "            returns = period * np.dot(weights, exp_return)\n",
    "            exp_returns.append(returns)\n",
    "\n",
    "            # calculando os desvio do portfolio\n",
    "            vol =  np.sqrt(np.dot(np.dot(weights.T, cov_matrix * period), weights))\n",
    "            vols.append(vol)\n",
    "\n",
    "            # calculando o sharpe esperado\n",
    "            sharpe = (returns - risk_free) / vol\n",
    "\n",
    "            portfolio_weights.append(weights)\n",
    "            sharpes.append(sharpe)\n",
    "\n",
    "        index = pd.DataFrame(sharpes).idxmax()\n",
    "        \n",
    "        index = index.iloc[0]\n",
    "        \n",
    "        w = pd.DataFrame(portfolio_weights).iloc[index,:]\n",
    "        \n",
    "        return (exp_returns, vols, sharpe, index, w)"
   ]
  },
  {
   "cell_type": "code",
   "execution_count": 253,
   "metadata": {},
   "outputs": [],
   "source": [
    "exp_returns, vols, sharpe, index, w = markowitz(returns, num_portfolios=5000000)"
   ]
  },
  {
   "cell_type": "code",
   "execution_count": 254,
   "metadata": {},
   "outputs": [
    {
     "data": {
      "text/plain": [
       "<matplotlib.collections.PathCollection at 0x138288310>"
      ]
     },
     "execution_count": 254,
     "metadata": {},
     "output_type": "execute_result"
    },
    {
     "data": {
      "image/png": "[encoded data removed]",
      "text/plain": [
       "<Figure size 432x288 with 1 Axes>"
      ]
     },
     "metadata": {
      "needs_background": "light"
     },
     "output_type": "display_data"
    }
   ],
   "source": [
    "plt.scatter(vols, exp_returns)"
   ]
  },
  {
   "cell_type": "code",
   "execution_count": 255,
   "metadata": {},
   "outputs": [
    {
     "data": {
      "text/plain": [
       "0    0.135246\n",
       "1    0.132612\n",
       "2    0.124464\n",
       "3    0.607678\n",
       "Name: 4898007, dtype: float64"
      ]
     },
     "execution_count": 255,
     "metadata": {},
     "output_type": "execute_result"
    }
   ],
   "source": [
    "w"
   ]
  },
  {
   "cell_type": "code",
   "execution_count": 256,
   "metadata": {},
   "outputs": [
    {
     "data": {
      "text/plain": [
       "1.8332917223483678"
      ]
     },
     "execution_count": 256,
     "metadata": {},
     "output_type": "execute_result"
    }
   ],
   "source": [
    "sharpe"
   ]
  },
  {
   "cell_type": "code",
   "execution_count": 249,
   "metadata": {},
   "outputs": [
    {
     "data": {
      "text/html": [
       "<div>\n",
       "<style scoped>\n",
       "    .dataframe tbody tr th:only-of-type {\n",
       "        vertical-align: middle;\n",
       "    }\n",
       "\n",
       "    .dataframe tbody tr th {\n",
       "        vertical-align: top;\n",
       "    }\n",
       "\n",
       "    .dataframe thead th {\n",
       "        text-align: right;\n",
       "    }\n",
       "</style>\n",
       "<table border=\"1\" class=\"dataframe\">\n",
       "  <thead>\n",
       "    <tr style=\"text-align: right;\">\n",
       "      <th></th>\n",
       "      <th>ARX</th>\n",
       "      <th>Darius</th>\n",
       "      <th>Alaska</th>\n",
       "      <th>BCFF11</th>\n",
       "    </tr>\n",
       "  </thead>\n",
       "  <tbody>\n",
       "    <tr>\n",
       "      <th>ARX</th>\n",
       "      <td>4.283903e-04</td>\n",
       "      <td>0.000263</td>\n",
       "      <td>0.000330</td>\n",
       "      <td>2.645050e-07</td>\n",
       "    </tr>\n",
       "    <tr>\n",
       "      <th>Darius</th>\n",
       "      <td>2.627976e-04</td>\n",
       "      <td>0.000042</td>\n",
       "      <td>0.000094</td>\n",
       "      <td>0.000000e+00</td>\n",
       "    </tr>\n",
       "    <tr>\n",
       "      <th>Alaska</th>\n",
       "      <td>3.296280e-04</td>\n",
       "      <td>0.000094</td>\n",
       "      <td>0.001102</td>\n",
       "      <td>-3.740784e-06</td>\n",
       "    </tr>\n",
       "    <tr>\n",
       "      <th>BCFF11</th>\n",
       "      <td>2.645050e-07</td>\n",
       "      <td>0.000000</td>\n",
       "      <td>-0.000004</td>\n",
       "      <td>4.625914e-05</td>\n",
       "    </tr>\n",
       "  </tbody>\n",
       "</table>\n",
       "</div>"
      ],
      "text/plain": [
       "                 ARX    Darius    Alaska        BCFF11\n",
       "ARX     4.283903e-04  0.000263  0.000330  2.645050e-07\n",
       "Darius  2.627976e-04  0.000042  0.000094  0.000000e+00\n",
       "Alaska  3.296280e-04  0.000094  0.001102 -3.740784e-06\n",
       "BCFF11  2.645050e-07  0.000000 -0.000004  4.625914e-05"
      ]
     },
     "execution_count": 249,
     "metadata": {},
     "output_type": "execute_result"
    }
   ],
   "source": [
    "returns.cov()"
   ]
  },
  {
   "cell_type": "code",
   "execution_count": null,
   "metadata": {},
   "outputs": [],
   "source": [
    "0    0.126495\n",
    "1    0.150132\n",
    "2    0.130544\n",
    "3    0.592829\n",
    "Name: 108610, dtype: float64"
   ]
  }
 ],
 "metadata": {
  "kernelspec": {
   "display_name": "Python 3",
   "language": "python",
   "name": "python3"
  },
  "language_info": {
   "codemirror_mode": {
    "name": "ipython",
    "version": 3
   },
   "file_extension": ".py",
   "mimetype": "text/x-python",
   "name": "python",
   "nbconvert_exporter": "python",
   "pygments_lexer": "ipython3",
   "version": "3.7.7"
  }
 },
 "nbformat": 4,
 "nbformat_minor": 4
}
